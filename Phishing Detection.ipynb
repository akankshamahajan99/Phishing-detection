{
 "cells": [
  {
   "cell_type": "markdown",
   "metadata": {
    "id": "EzNkb8U2_Jcp"
   },
   "source": [
    "# Phishing Detection"
   ]
  },
  {
   "cell_type": "markdown",
   "metadata": {
    "id": "k_5TyzTwIAvN"
   },
   "source": [
    "## Required Packages"
   ]
  },
  {
   "cell_type": "code",
   "execution_count": 1,
   "metadata": {
    "colab": {
     "base_uri": "https://localhost:8080/",
     "height": 204
    },
    "executionInfo": {
     "elapsed": 5846,
     "status": "ok",
     "timestamp": 1602414542070,
     "user": {
      "displayName": "Akanksha Mahajan",
      "photoUrl": "",
      "userId": "04246687864375744879"
     },
     "user_tz": -330
    },
    "id": "IWBSMV2BH3J5",
    "outputId": "cd18247c-41ed-4f90-e55a-8afc2150b001"
   },
   "outputs": [],
   "source": [
    "#!pip install python-whois\n",
    "#!pip install googlesearch-python"
   ]
  },
  {
   "cell_type": "code",
   "execution_count": 2,
   "metadata": {},
   "outputs": [],
   "source": [
    "import requests\n",
    "import whois\n",
    "from datetime import datetime\n",
    "from googlesearch import search"
   ]
  },
  {
   "cell_type": "code",
   "execution_count": 3,
   "metadata": {
    "executionInfo": {
     "elapsed": 4382,
     "status": "ok",
     "timestamp": 1602414542076,
     "user": {
      "displayName": "Akanksha Mahajan",
      "photoUrl": "",
      "userId": "04246687864375744879"
     },
     "user_tz": -330
    },
    "id": "GS_wnuKTDBjZ"
   },
   "outputs": [],
   "source": [
    "whiteList = open(\"white-list.txt\", \"r\")\n",
    "blackList = open(\"black-list.txt\", \"r\")"
   ]
  },
  {
   "cell_type": "markdown",
   "metadata": {
    "id": "ldn85QhU_Jcq"
   },
   "source": [
    "## White-List"
   ]
  },
  {
   "cell_type": "code",
   "execution_count": 4,
   "metadata": {
    "executionInfo": {
     "elapsed": 3296,
     "status": "ok",
     "timestamp": 1602414542978,
     "user": {
      "displayName": "Akanksha Mahajan",
      "photoUrl": "",
      "userId": "04246687864375744879"
     },
     "user_tz": -330
    },
    "id": "W60wpOAJ_Jcr"
   },
   "outputs": [],
   "source": [
    "whiteList = whiteList.readlines()\n",
    "def checkWhiteList(url, whiteList = whiteList):\n",
    "    if url in whiteList:\n",
    "        return True\n",
    "    return False"
   ]
  },
  {
   "cell_type": "markdown",
   "metadata": {
    "id": "brMwgzC6_Jcy"
   },
   "source": [
    "## Black-List"
   ]
  },
  {
   "cell_type": "code",
   "execution_count": 5,
   "metadata": {
    "executionInfo": {
     "elapsed": 2073,
     "status": "ok",
     "timestamp": 1602414542981,
     "user": {
      "displayName": "Akanksha Mahajan",
      "photoUrl": "",
      "userId": "04246687864375744879"
     },
     "user_tz": -330
    },
    "id": "PjGO4s_yWTG9"
   },
   "outputs": [],
   "source": [
    "blackList = blackList.readlines()"
   ]
  },
  {
   "cell_type": "code",
   "execution_count": 6,
   "metadata": {
    "executionInfo": {
     "elapsed": 1258,
     "status": "ok",
     "timestamp": 1602414661981,
     "user": {
      "displayName": "Akanksha Mahajan",
      "photoUrl": "",
      "userId": "04246687864375744879"
     },
     "user_tz": -330
    },
    "id": "S9z7Kl6Z_Jcy",
    "scrolled": false
   },
   "outputs": [],
   "source": [
    "# source for appspot = https://www.sslcertificates.top/certificate/12296\n",
    "domains = [\"co.in\", \"co.uk\", \"co.za\", \"ac.in\", \"ac.th\", \"com.br\", \"ac.id\", \"com.ec\", \"org.au\", \"org.za\", \"com.hk\", \"org.ar\", \"com.au\", \".io\", \"web.app\", \"appspot.com\", \"an.r.appspot.com\", \"app.google\", \"as.r.appspot.com\", \"de.r.appspot.com\", \"df.r.appspot.com\", \"dt.r.appspot.com\", \"du.r.appspot.com\", \"el.r.appspot.com\", \"et.r.appspot.com\", \"ew.r.appspot.com\", \"ey.r.appspot.com\", \"ez.r.appspot.com\", \"lz.r.appspot.com\", \"nn.r.appspot.com\", \"nw.r.appspot.com\", \"nz.r.appspot.com\", \"oa.r.appspot.com\", \"rj.r.appspot.com\", \"thinkwithgoogle.com\", \"ts.r.appspot.com\", \"tz.r.appspot.com\", \"uc.r.appspot.com\", \"ue.r.appspot.com\", \"uk.r.appspot.com\", \"uw.r.appspot.com\", \"withgoogle.com\", \"blogspot.com\", \"withyoutube.com\", \"wl.r.appspot.com\", \"wm.r.appspot.com\", \"wn.r.appspot.com\", \"app.google\", \"appspot.com\", \"thinkwithgoogle.com\", \"withgoogle.com\", \"withyoutube.com\"]\n",
    "BlackList = []\n",
    "for url in blackList:\n",
    "    index = 0\n",
    "    # some has http or https or nothing\n",
    "    if \"http\" in url:\n",
    "        index = url.find('://')\n",
    "        url = url[3:]\n",
    "    url = url[index:]\n",
    "    index = url.find('/')\n",
    "    if index != -1:\n",
    "        url = url[:index]\n",
    "    prevUrl = url\n",
    "    index = url.find('.')\n",
    "    while index != -1:\n",
    "        prevUrl = url\n",
    "        url = url[index + 1:]\n",
    "        if url in domains:\n",
    "            break\n",
    "        index = url.find('.')\n",
    "    BlackList.append(prevUrl)\n",
    "blackList = BlackList\n",
    "BlackList = []\n",
    "def checkBlackList(url, blackList = blackList):\n",
    "    if url in blackList:\n",
    "        return True\n",
    "    return False"
   ]
  },
  {
   "cell_type": "markdown",
   "metadata": {},
   "source": [
    "## Whois"
   ]
  },
  {
   "cell_type": "code",
   "execution_count": 8,
   "metadata": {
    "id": "n3DDdLZ0W34s"
   },
   "outputs": [],
   "source": [
    "def check_whois(url):\n",
    "    try:  \n",
    "        w = whois.whois(url)\n",
    "    except:\n",
    "        return True\n",
    "    try:\n",
    "        d = w.expiration_date.year - w.creation_date.year\n",
    "    except:\n",
    "        try:\n",
    "            d = w.expiration_date[0].year - w.creation_date[0].year\n",
    "            w.expiration_date = w.expiration_date[0]\n",
    "            w.creation_date = w.creation_date[0]\n",
    "        except:\n",
    "            d = 0\n",
    "    # no expiration date or no creation date\n",
    "    if not w.expiration_date or not w.creation_date:\n",
    "        return True\n",
    "    # difference <= 1 year or difference more than 200 years\n",
    "    if d <= 1 or d > 200:\n",
    "        return True\n",
    "    # current date exceeds expiration date\n",
    "    if datetime.now() > w.expiration_date:\n",
    "        return True\n",
    "    try:\n",
    "        org = w.org\n",
    "        reg = w.registrar\n",
    "        email = w.emails\n",
    "        status = w.status\n",
    "        if org is None or reg is None or email is None or status is None:\n",
    "            return True\n",
    "    except:\n",
    "        return True\n",
    "    return False"
   ]
  },
  {
   "cell_type": "code",
   "execution_count": 9,
   "metadata": {
    "scrolled": true
   },
   "outputs": [
    {
     "data": {
      "text/plain": [
       "False"
      ]
     },
     "execution_count": 9,
     "metadata": {},
     "output_type": "execute_result"
    }
   ],
   "source": [
    "# Checking non-phishing site\n",
    "url = \"https://www.google.com/\"\n",
    "check_whois(url)"
   ]
  },
  {
   "cell_type": "code",
   "execution_count": 10,
   "metadata": {
    "scrolled": true
   },
   "outputs": [
    {
     "name": "stdout",
     "output_type": "stream",
     "text": [
      "True\n",
      "True\n"
     ]
    }
   ],
   "source": [
    "# Checking phishing site\n",
    "urls = [\"https://cbsujavrh.ts.r.appspot.com/login.microsoftonline.com/common/oauth2\", \"https://www.netflix.verfiy-your-information.com/\"]\n",
    "for url in urls:\n",
    "  print(check_whois(url))"
   ]
  },
  {
   "cell_type": "markdown",
   "metadata": {},
   "source": [
    "## Google Search"
   ]
  },
  {
   "cell_type": "code",
   "execution_count": 11,
   "metadata": {},
   "outputs": [],
   "source": [
    "def check_google(url):\n",
    "    index = -1\n",
    "    rslt = search(url, num_results=0)\n",
    "    if len(rslt) != 0:\n",
    "        index = rslt[0].find('://')\n",
    "        if index != -1:\n",
    "            rslt = rslt[0][index + 3:]\n",
    "        index = rslt.find('/')\n",
    "        if index != -1:\n",
    "            rslt = rslt[:index]\n",
    "        index = url.find('://')\n",
    "        if index != -1:\n",
    "            url = url[index + 3:]  \n",
    "        index = url.find('/')\n",
    "        if index != -1:\n",
    "            url = url[:index]\n",
    "    if rslt == url:\n",
    "        return False\n",
    "    return True"
   ]
  },
  {
   "cell_type": "code",
   "execution_count": 13,
   "metadata": {},
   "outputs": [
    {
     "name": "stdout",
     "output_type": "stream",
     "text": [
      "False\n"
     ]
    }
   ],
   "source": [
    "# Checking non-phishing site\n",
    "url = \"www.google.com\"\n",
    "check_google(url)"
   ]
  },
  {
   "cell_type": "code",
   "execution_count": 14,
   "metadata": {},
   "outputs": [
    {
     "name": "stdout",
     "output_type": "stream",
     "text": [
      "True\n",
      "True\n",
      "True\n"
     ]
    }
   ],
   "source": [
    "# Checking phishing site\n",
    "urls = [\"https://cbsujavrh.ts.r.appspot.com/login.microsoftonline.com/common/oauth2\", \"http://continouscrusader.com/www.amazon.com/preferredmethods/payment/Amazon\", \"http://tiny.cc/m5md0y?platform=hootsuite\"]\n",
    "for url in urls:\n",
    "    print(check_google(url))"
   ]
  },
  {
   "cell_type": "markdown",
   "metadata": {},
   "source": [
    "## ML Model"
   ]
  },
  {
   "cell_type": "code",
   "execution_count": 15,
   "metadata": {},
   "outputs": [],
   "source": [
    "# Filter the uneccesary warnings\n",
    "import warnings\n",
    "warnings.filterwarnings(\"ignore\")\n",
    "\n",
    "# Import pandas and numpy\n",
    "import pandas as pd\n",
    "import numpy as np"
   ]
  },
  {
   "cell_type": "code",
   "execution_count": 16,
   "metadata": {},
   "outputs": [
    {
     "data": {
      "text/html": [
       "<div>\n",
       "<style scoped>\n",
       "    .dataframe tbody tr th:only-of-type {\n",
       "        vertical-align: middle;\n",
       "    }\n",
       "\n",
       "    .dataframe tbody tr th {\n",
       "        vertical-align: top;\n",
       "    }\n",
       "\n",
       "    .dataframe thead th {\n",
       "        text-align: right;\n",
       "    }\n",
       "</style>\n",
       "<table border=\"1\" class=\"dataframe\">\n",
       "  <thead>\n",
       "    <tr style=\"text-align: right;\">\n",
       "      <th></th>\n",
       "      <th>index</th>\n",
       "      <th>having_IPhaving_IP_Address</th>\n",
       "      <th>URLURL_Length</th>\n",
       "      <th>Shortining_Service</th>\n",
       "      <th>having_At_Symbol</th>\n",
       "      <th>double_slash_redirecting</th>\n",
       "      <th>Prefix_Suffix</th>\n",
       "      <th>having_Sub_Domain</th>\n",
       "      <th>SSLfinal_State</th>\n",
       "      <th>Domain_registeration_length</th>\n",
       "      <th>...</th>\n",
       "      <th>popUpWidnow</th>\n",
       "      <th>Iframe</th>\n",
       "      <th>age_of_domain</th>\n",
       "      <th>DNSRecord</th>\n",
       "      <th>web_traffic</th>\n",
       "      <th>Page_Rank</th>\n",
       "      <th>Google_Index</th>\n",
       "      <th>Links_pointing_to_page</th>\n",
       "      <th>Statistical_report</th>\n",
       "      <th>Result</th>\n",
       "    </tr>\n",
       "  </thead>\n",
       "  <tbody>\n",
       "    <tr>\n",
       "      <th>0</th>\n",
       "      <td>1</td>\n",
       "      <td>-1</td>\n",
       "      <td>1</td>\n",
       "      <td>1</td>\n",
       "      <td>1</td>\n",
       "      <td>-1</td>\n",
       "      <td>-1</td>\n",
       "      <td>-1</td>\n",
       "      <td>-1</td>\n",
       "      <td>-1</td>\n",
       "      <td>...</td>\n",
       "      <td>1</td>\n",
       "      <td>1</td>\n",
       "      <td>-1</td>\n",
       "      <td>-1</td>\n",
       "      <td>-1</td>\n",
       "      <td>-1</td>\n",
       "      <td>1</td>\n",
       "      <td>1</td>\n",
       "      <td>-1</td>\n",
       "      <td>-1</td>\n",
       "    </tr>\n",
       "    <tr>\n",
       "      <th>1</th>\n",
       "      <td>2</td>\n",
       "      <td>1</td>\n",
       "      <td>1</td>\n",
       "      <td>1</td>\n",
       "      <td>1</td>\n",
       "      <td>1</td>\n",
       "      <td>-1</td>\n",
       "      <td>0</td>\n",
       "      <td>1</td>\n",
       "      <td>-1</td>\n",
       "      <td>...</td>\n",
       "      <td>1</td>\n",
       "      <td>1</td>\n",
       "      <td>-1</td>\n",
       "      <td>-1</td>\n",
       "      <td>0</td>\n",
       "      <td>-1</td>\n",
       "      <td>1</td>\n",
       "      <td>1</td>\n",
       "      <td>1</td>\n",
       "      <td>-1</td>\n",
       "    </tr>\n",
       "    <tr>\n",
       "      <th>2</th>\n",
       "      <td>3</td>\n",
       "      <td>1</td>\n",
       "      <td>0</td>\n",
       "      <td>1</td>\n",
       "      <td>1</td>\n",
       "      <td>1</td>\n",
       "      <td>-1</td>\n",
       "      <td>-1</td>\n",
       "      <td>-1</td>\n",
       "      <td>-1</td>\n",
       "      <td>...</td>\n",
       "      <td>1</td>\n",
       "      <td>1</td>\n",
       "      <td>1</td>\n",
       "      <td>-1</td>\n",
       "      <td>1</td>\n",
       "      <td>-1</td>\n",
       "      <td>1</td>\n",
       "      <td>0</td>\n",
       "      <td>-1</td>\n",
       "      <td>-1</td>\n",
       "    </tr>\n",
       "    <tr>\n",
       "      <th>3</th>\n",
       "      <td>4</td>\n",
       "      <td>1</td>\n",
       "      <td>0</td>\n",
       "      <td>1</td>\n",
       "      <td>1</td>\n",
       "      <td>1</td>\n",
       "      <td>-1</td>\n",
       "      <td>-1</td>\n",
       "      <td>-1</td>\n",
       "      <td>1</td>\n",
       "      <td>...</td>\n",
       "      <td>1</td>\n",
       "      <td>1</td>\n",
       "      <td>-1</td>\n",
       "      <td>-1</td>\n",
       "      <td>1</td>\n",
       "      <td>-1</td>\n",
       "      <td>1</td>\n",
       "      <td>-1</td>\n",
       "      <td>1</td>\n",
       "      <td>-1</td>\n",
       "    </tr>\n",
       "    <tr>\n",
       "      <th>4</th>\n",
       "      <td>5</td>\n",
       "      <td>1</td>\n",
       "      <td>0</td>\n",
       "      <td>-1</td>\n",
       "      <td>1</td>\n",
       "      <td>1</td>\n",
       "      <td>-1</td>\n",
       "      <td>1</td>\n",
       "      <td>1</td>\n",
       "      <td>-1</td>\n",
       "      <td>...</td>\n",
       "      <td>-1</td>\n",
       "      <td>1</td>\n",
       "      <td>-1</td>\n",
       "      <td>-1</td>\n",
       "      <td>0</td>\n",
       "      <td>-1</td>\n",
       "      <td>1</td>\n",
       "      <td>1</td>\n",
       "      <td>1</td>\n",
       "      <td>1</td>\n",
       "    </tr>\n",
       "    <tr>\n",
       "      <th>5</th>\n",
       "      <td>6</td>\n",
       "      <td>-1</td>\n",
       "      <td>0</td>\n",
       "      <td>-1</td>\n",
       "      <td>1</td>\n",
       "      <td>-1</td>\n",
       "      <td>-1</td>\n",
       "      <td>1</td>\n",
       "      <td>1</td>\n",
       "      <td>-1</td>\n",
       "      <td>...</td>\n",
       "      <td>1</td>\n",
       "      <td>1</td>\n",
       "      <td>1</td>\n",
       "      <td>1</td>\n",
       "      <td>1</td>\n",
       "      <td>-1</td>\n",
       "      <td>1</td>\n",
       "      <td>-1</td>\n",
       "      <td>-1</td>\n",
       "      <td>1</td>\n",
       "    </tr>\n",
       "    <tr>\n",
       "      <th>6</th>\n",
       "      <td>7</td>\n",
       "      <td>1</td>\n",
       "      <td>0</td>\n",
       "      <td>-1</td>\n",
       "      <td>1</td>\n",
       "      <td>1</td>\n",
       "      <td>-1</td>\n",
       "      <td>-1</td>\n",
       "      <td>-1</td>\n",
       "      <td>1</td>\n",
       "      <td>...</td>\n",
       "      <td>1</td>\n",
       "      <td>1</td>\n",
       "      <td>1</td>\n",
       "      <td>-1</td>\n",
       "      <td>-1</td>\n",
       "      <td>-1</td>\n",
       "      <td>1</td>\n",
       "      <td>0</td>\n",
       "      <td>-1</td>\n",
       "      <td>-1</td>\n",
       "    </tr>\n",
       "    <tr>\n",
       "      <th>7</th>\n",
       "      <td>8</td>\n",
       "      <td>1</td>\n",
       "      <td>0</td>\n",
       "      <td>1</td>\n",
       "      <td>1</td>\n",
       "      <td>1</td>\n",
       "      <td>-1</td>\n",
       "      <td>-1</td>\n",
       "      <td>-1</td>\n",
       "      <td>1</td>\n",
       "      <td>...</td>\n",
       "      <td>1</td>\n",
       "      <td>1</td>\n",
       "      <td>-1</td>\n",
       "      <td>-1</td>\n",
       "      <td>0</td>\n",
       "      <td>-1</td>\n",
       "      <td>1</td>\n",
       "      <td>0</td>\n",
       "      <td>1</td>\n",
       "      <td>-1</td>\n",
       "    </tr>\n",
       "    <tr>\n",
       "      <th>8</th>\n",
       "      <td>9</td>\n",
       "      <td>1</td>\n",
       "      <td>0</td>\n",
       "      <td>-1</td>\n",
       "      <td>1</td>\n",
       "      <td>1</td>\n",
       "      <td>-1</td>\n",
       "      <td>1</td>\n",
       "      <td>1</td>\n",
       "      <td>-1</td>\n",
       "      <td>...</td>\n",
       "      <td>1</td>\n",
       "      <td>1</td>\n",
       "      <td>1</td>\n",
       "      <td>-1</td>\n",
       "      <td>1</td>\n",
       "      <td>1</td>\n",
       "      <td>1</td>\n",
       "      <td>0</td>\n",
       "      <td>1</td>\n",
       "      <td>1</td>\n",
       "    </tr>\n",
       "    <tr>\n",
       "      <th>9</th>\n",
       "      <td>10</td>\n",
       "      <td>1</td>\n",
       "      <td>1</td>\n",
       "      <td>-1</td>\n",
       "      <td>1</td>\n",
       "      <td>1</td>\n",
       "      <td>-1</td>\n",
       "      <td>-1</td>\n",
       "      <td>1</td>\n",
       "      <td>-1</td>\n",
       "      <td>...</td>\n",
       "      <td>1</td>\n",
       "      <td>1</td>\n",
       "      <td>1</td>\n",
       "      <td>-1</td>\n",
       "      <td>0</td>\n",
       "      <td>-1</td>\n",
       "      <td>1</td>\n",
       "      <td>0</td>\n",
       "      <td>1</td>\n",
       "      <td>-1</td>\n",
       "    </tr>\n",
       "  </tbody>\n",
       "</table>\n",
       "<p>10 rows × 32 columns</p>\n",
       "</div>"
      ],
      "text/plain": [
       "   index  having_IPhaving_IP_Address  URLURL_Length  Shortining_Service  \\\n",
       "0      1                          -1              1                   1   \n",
       "1      2                           1              1                   1   \n",
       "2      3                           1              0                   1   \n",
       "3      4                           1              0                   1   \n",
       "4      5                           1              0                  -1   \n",
       "5      6                          -1              0                  -1   \n",
       "6      7                           1              0                  -1   \n",
       "7      8                           1              0                   1   \n",
       "8      9                           1              0                  -1   \n",
       "9     10                           1              1                  -1   \n",
       "\n",
       "   having_At_Symbol  double_slash_redirecting  Prefix_Suffix  \\\n",
       "0                 1                        -1             -1   \n",
       "1                 1                         1             -1   \n",
       "2                 1                         1             -1   \n",
       "3                 1                         1             -1   \n",
       "4                 1                         1             -1   \n",
       "5                 1                        -1             -1   \n",
       "6                 1                         1             -1   \n",
       "7                 1                         1             -1   \n",
       "8                 1                         1             -1   \n",
       "9                 1                         1             -1   \n",
       "\n",
       "   having_Sub_Domain  SSLfinal_State  Domain_registeration_length  ...  \\\n",
       "0                 -1              -1                           -1  ...   \n",
       "1                  0               1                           -1  ...   \n",
       "2                 -1              -1                           -1  ...   \n",
       "3                 -1              -1                            1  ...   \n",
       "4                  1               1                           -1  ...   \n",
       "5                  1               1                           -1  ...   \n",
       "6                 -1              -1                            1  ...   \n",
       "7                 -1              -1                            1  ...   \n",
       "8                  1               1                           -1  ...   \n",
       "9                 -1               1                           -1  ...   \n",
       "\n",
       "   popUpWidnow  Iframe  age_of_domain  DNSRecord  web_traffic  Page_Rank  \\\n",
       "0            1       1             -1         -1           -1         -1   \n",
       "1            1       1             -1         -1            0         -1   \n",
       "2            1       1              1         -1            1         -1   \n",
       "3            1       1             -1         -1            1         -1   \n",
       "4           -1       1             -1         -1            0         -1   \n",
       "5            1       1              1          1            1         -1   \n",
       "6            1       1              1         -1           -1         -1   \n",
       "7            1       1             -1         -1            0         -1   \n",
       "8            1       1              1         -1            1          1   \n",
       "9            1       1              1         -1            0         -1   \n",
       "\n",
       "   Google_Index  Links_pointing_to_page  Statistical_report  Result  \n",
       "0             1                       1                  -1      -1  \n",
       "1             1                       1                   1      -1  \n",
       "2             1                       0                  -1      -1  \n",
       "3             1                      -1                   1      -1  \n",
       "4             1                       1                   1       1  \n",
       "5             1                      -1                  -1       1  \n",
       "6             1                       0                  -1      -1  \n",
       "7             1                       0                   1      -1  \n",
       "8             1                       0                   1       1  \n",
       "9             1                       0                   1      -1  \n",
       "\n",
       "[10 rows x 32 columns]"
      ]
     },
     "execution_count": 16,
     "metadata": {},
     "output_type": "execute_result"
    }
   ],
   "source": [
    "data = pd.read_csv('dataset.csv')\n",
    "data.head(10)"
   ]
  },
  {
   "cell_type": "code",
   "execution_count": null,
   "metadata": {},
   "outputs": [],
   "source": []
  }
 ],
 "metadata": {
  "colab": {
   "collapsed_sections": [],
   "name": "Phishing Detection.ipynb",
   "provenance": []
  },
  "kernelspec": {
   "display_name": "Python 3",
   "language": "python",
   "name": "python3"
  },
  "language_info": {
   "codemirror_mode": {
    "name": "ipython",
    "version": 3
   },
   "file_extension": ".py",
   "mimetype": "text/x-python",
   "name": "python",
   "nbconvert_exporter": "python",
   "pygments_lexer": "ipython3",
   "version": "3.7.7"
  }
 },
 "nbformat": 4,
 "nbformat_minor": 1
}
