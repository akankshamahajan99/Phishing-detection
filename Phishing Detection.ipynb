{
 "cells": [
  {
   "cell_type": "markdown",
   "metadata": {
    "id": "EzNkb8U2_Jcp"
   },
   "source": [
    "# Phishing Detection"
   ]
  },
  {
   "cell_type": "markdown",
   "metadata": {
    "id": "k_5TyzTwIAvN"
   },
   "source": [
    "## Required Packages"
   ]
  },
  {
   "cell_type": "code",
   "execution_count": 7,
   "metadata": {
    "colab": {
     "base_uri": "https://localhost:8080/",
     "height": 204
    },
    "executionInfo": {
     "elapsed": 5846,
     "status": "ok",
     "timestamp": 1602414542070,
     "user": {
      "displayName": "Akanksha Mahajan",
      "photoUrl": "",
      "userId": "04246687864375744879"
     },
     "user_tz": -330
    },
    "id": "IWBSMV2BH3J5",
    "outputId": "cd18247c-41ed-4f90-e55a-8afc2150b001"
   },
   "outputs": [
    {
     "name": "stdout",
     "output_type": "stream",
     "text": [
      "Requirement already satisfied: python-whois in /usr/local/lib/python3.6/dist-packages (0.7.3)\n",
      "Requirement already satisfied: future in /usr/local/lib/python3.6/dist-packages (from python-whois) (0.16.0)\n",
      "Requirement already satisfied: googlesearch-python in /usr/local/lib/python3.6/dist-packages (2020.0.2)\n",
      "Requirement already satisfied: urllib3==1.25.9 in /usr/local/lib/python3.6/dist-packages (from googlesearch-python) (1.25.9)\n",
      "Requirement already satisfied: requests==2.24.0 in /usr/local/lib/python3.6/dist-packages (from googlesearch-python) (2.24.0)\n",
      "Requirement already satisfied: bs4==0.0.1 in /usr/local/lib/python3.6/dist-packages (from googlesearch-python) (0.0.1)\n",
      "Requirement already satisfied: chardet==3.0.4 in /usr/local/lib/python3.6/dist-packages (from googlesearch-python) (3.0.4)\n",
      "Requirement already satisfied: certifi==2020.6.20 in /usr/local/lib/python3.6/dist-packages (from googlesearch-python) (2020.6.20)\n",
      "Requirement already satisfied: soupsieve==2.0.1 in /usr/local/lib/python3.6/dist-packages (from googlesearch-python) (2.0.1)\n",
      "Requirement already satisfied: idna==2.10 in /usr/local/lib/python3.6/dist-packages (from googlesearch-python) (2.10)\n",
      "Requirement already satisfied: beautifulsoup4==4.9.1 in /usr/local/lib/python3.6/dist-packages (from googlesearch-python) (4.9.1)\n"
     ]
    }
   ],
   "source": [
    "!pip install python-whois\n",
    "!pip install googlesearch-python\n",
    "import requests"
   ]
  },
  {
   "cell_type": "code",
   "execution_count": 8,
   "metadata": {
    "executionInfo": {
     "elapsed": 4382,
     "status": "ok",
     "timestamp": 1602414542076,
     "user": {
      "displayName": "Akanksha Mahajan",
      "photoUrl": "",
      "userId": "04246687864375744879"
     },
     "user_tz": -330
    },
    "id": "GS_wnuKTDBjZ"
   },
   "outputs": [],
   "source": [
    "whiteList = \"https://raw.githubusercontent.com/akankshamahajan99/Phishing-detection/master/white-list.txt\"\n",
    "blackList = \"https://raw.githubusercontent.com/akankshamahajan99/Phishing-detection/master/black-list.txt\""
   ]
  },
  {
   "cell_type": "markdown",
   "metadata": {
    "id": "ldn85QhU_Jcq"
   },
   "source": [
    "## White-List"
   ]
  },
  {
   "cell_type": "code",
   "execution_count": 9,
   "metadata": {
    "executionInfo": {
     "elapsed": 3296,
     "status": "ok",
     "timestamp": 1602414542978,
     "user": {
      "displayName": "Akanksha Mahajan",
      "photoUrl": "",
      "userId": "04246687864375744879"
     },
     "user_tz": -330
    },
    "id": "W60wpOAJ_Jcr"
   },
   "outputs": [],
   "source": [
    "whiteList = requests.get(whiteList).text\n",
    "whiteList = whiteList.split(\"\\n\")"
   ]
  },
  {
   "cell_type": "markdown",
   "metadata": {
    "id": "brMwgzC6_Jcy"
   },
   "source": [
    "## Black-List"
   ]
  },
  {
   "cell_type": "code",
   "execution_count": 10,
   "metadata": {
    "executionInfo": {
     "elapsed": 2073,
     "status": "ok",
     "timestamp": 1602414542981,
     "user": {
      "displayName": "Akanksha Mahajan",
      "photoUrl": "",
      "userId": "04246687864375744879"
     },
     "user_tz": -330
    },
    "id": "PjGO4s_yWTG9"
   },
   "outputs": [],
   "source": [
    "blackList = requests.get(blackList).text\n",
    "blackList = blackList.split(\"\\n\")"
   ]
  },
  {
   "cell_type": "code",
   "execution_count": 12,
   "metadata": {
    "executionInfo": {
     "elapsed": 1258,
     "status": "ok",
     "timestamp": 1602414661981,
     "user": {
      "displayName": "Akanksha Mahajan",
      "photoUrl": "",
      "userId": "04246687864375744879"
     },
     "user_tz": -330
    },
    "id": "S9z7Kl6Z_Jcy",
    "scrolled": false
   },
   "outputs": [],
   "source": [
    "# source for appspot = https://www.sslcertificates.top/certificate/12296\n",
    "domains = [\"co.in\", \"co.uk\", \"co.za\", \"ac.in\", \"ac.th\", \"com.br\", \"ac.id\", \"com.ec\", \"org.au\", \"org.za\", \"com.hk\", \"org.ar\", \"com.au\", \".io\", \"web.app\", \"appspot.com\", \"an.r.appspot.com\", \"app.google\", \"as.r.appspot.com\", \"de.r.appspot.com\", \"df.r.appspot.com\", \"dt.r.appspot.com\", \"du.r.appspot.com\", \"el.r.appspot.com\", \"et.r.appspot.com\", \"ew.r.appspot.com\", \"ey.r.appspot.com\", \"ez.r.appspot.com\", \"lz.r.appspot.com\", \"nn.r.appspot.com\", \"nw.r.appspot.com\", \"nz.r.appspot.com\", \"oa.r.appspot.com\", \"rj.r.appspot.com\", \"thinkwithgoogle.com\", \"ts.r.appspot.com\", \"tz.r.appspot.com\", \"uc.r.appspot.com\", \"ue.r.appspot.com\", \"uk.r.appspot.com\", \"uw.r.appspot.com\", \"withgoogle.com\", \"blogspot.com\", \"withyoutube.com\", \"wl.r.appspot.com\", \"wm.r.appspot.com\", \"wn.r.appspot.com\", \"app.google\", \"appspot.com\", \"thinkwithgoogle.com\", \"withgoogle.com\", \"withyoutube.com\"]\n",
    "BlackList = []\n",
    "for url in blackList:\n",
    "    index = 0\n",
    "    # some has http or https or nothing\n",
    "    if \"http\" in url:\n",
    "        index = url.find('://')\n",
    "        url = url[3:]\n",
    "    url = url[index:]\n",
    "    index = url.find('/')\n",
    "    if index != -1:\n",
    "        url = url[:index]\n",
    "    index = url.find('.')\n",
    "    while index != -1:\n",
    "        prevUrl = url\n",
    "        url = url[index + 1:]\n",
    "        if url in domains:\n",
    "            break\n",
    "        index = url.find('.')\n",
    "    BlackList.append(prevUrl)\n",
    "blackList = BlackList\n",
    "BlackList = []"
   ]
  },
  {
   "cell_type": "code",
   "execution_count": null,
   "metadata": {
    "id": "n3DDdLZ0W34s"
   },
   "outputs": [],
   "source": []
  }
 ],
 "metadata": {
  "colab": {
   "collapsed_sections": [],
   "name": "Phishing Detection.ipynb",
   "provenance": []
  },
  "kernelspec": {
   "display_name": "Python 3",
   "language": "python",
   "name": "python3"
  },
  "language_info": {
   "codemirror_mode": {
    "name": "ipython",
    "version": 3
   },
   "file_extension": ".py",
   "mimetype": "text/x-python",
   "name": "python",
   "nbconvert_exporter": "python",
   "pygments_lexer": "ipython3",
   "version": "3.7.7"
  }
 },
 "nbformat": 4,
 "nbformat_minor": 1
}
