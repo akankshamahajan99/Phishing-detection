{
 "cells": [
  {
   "cell_type": "markdown",
   "metadata": {
    "id": "EzNkb8U2_Jcp"
   },
   "source": [
    "# Phishing Detection"
   ]
  },
  {
   "cell_type": "markdown",
   "metadata": {
    "id": "k_5TyzTwIAvN"
   },
   "source": [
    "## Required Packages"
   ]
  },
  {
   "cell_type": "code",
   "execution_count": 1,
   "metadata": {
    "colab": {
     "base_uri": "https://localhost:8080/",
     "height": 204
    },
    "executionInfo": {
     "elapsed": 5846,
     "status": "ok",
     "timestamp": 1602414542070,
     "user": {
      "displayName": "Akanksha Mahajan",
      "photoUrl": "",
      "userId": "04246687864375744879"
     },
     "user_tz": -330
    },
    "id": "IWBSMV2BH3J5",
    "outputId": "cd18247c-41ed-4f90-e55a-8afc2150b001"
   },
   "outputs": [
    {
     "name": "stdout",
     "output_type": "stream",
     "text": [
      "Collecting dnspython\n",
      "  Downloading dnspython-2.0.0-py3-none-any.whl (208 kB)\n",
      "Installing collected packages: dnspython\n",
      "Successfully installed dnspython-2.0.0\n"
     ]
    }
   ],
   "source": [
    "#!pip install python-whois\n",
    "#!pip install googlesearch-python\n",
    "#!pip install dnspython"
   ]
  },
  {
   "cell_type": "code",
   "execution_count": 101,
   "metadata": {},
   "outputs": [],
   "source": [
    "import requests\n",
    "import whois\n",
    "from datetime import datetime\n",
    "from googlesearch import search\n",
    "import dns.resolver \n",
    "\n",
    "# Filter the uneccesary warnings\n",
    "import warnings\n",
    "warnings.filterwarnings(\"ignore\")\n",
    " \n",
    "import csv\n",
    "import re\n",
    "\n",
    "# Import pandas and numpy\n",
    "import pandas as pd\n",
    "import numpy as np\n",
    "import matplotlib.pyplot as plt\n",
    "from sklearn.linear_model import LogisticRegression\n",
    "from sklearn.model_selection import train_test_split\n",
    "from sklearn import metrics\n",
    "from sklearn.tree import DecisionTreeClassifier \n",
    "from sklearn.ensemble import RandomForestClassifier, BaggingClassifier, AdaBoostClassifier\n",
    "from mlxtend.classifier import StackingClassifier\n",
    "from sklearn.metrics import accuracy_score, classification_report\n",
    "from collections import Counter"
   ]
  },
  {
   "cell_type": "code",
   "execution_count": 3,
   "metadata": {
    "executionInfo": {
     "elapsed": 4382,
     "status": "ok",
     "timestamp": 1602414542076,
     "user": {
      "displayName": "Akanksha Mahajan",
      "photoUrl": "",
      "userId": "04246687864375744879"
     },
     "user_tz": -330
    },
    "id": "GS_wnuKTDBjZ"
   },
   "outputs": [],
   "source": [
    "whiteList = open(\"white-list.txt\", \"r\")\n",
    "blackList = open(\"black-list.txt\", \"r\")"
   ]
  },
  {
   "cell_type": "markdown",
   "metadata": {
    "id": "ldn85QhU_Jcq"
   },
   "source": [
    "## White-List"
   ]
  },
  {
   "cell_type": "code",
   "execution_count": 4,
   "metadata": {
    "executionInfo": {
     "elapsed": 3296,
     "status": "ok",
     "timestamp": 1602414542978,
     "user": {
      "displayName": "Akanksha Mahajan",
      "photoUrl": "",
      "userId": "04246687864375744879"
     },
     "user_tz": -330
    },
    "id": "W60wpOAJ_Jcr"
   },
   "outputs": [],
   "source": [
    "whiteList = whiteList.readlines()\n",
    "def checkWhiteList(url, whiteList = whiteList):\n",
    "    if url in whiteList:\n",
    "        return True\n",
    "    return False"
   ]
  },
  {
   "cell_type": "markdown",
   "metadata": {
    "id": "brMwgzC6_Jcy"
   },
   "source": [
    "## Black-List"
   ]
  },
  {
   "cell_type": "code",
   "execution_count": 5,
   "metadata": {
    "executionInfo": {
     "elapsed": 2073,
     "status": "ok",
     "timestamp": 1602414542981,
     "user": {
      "displayName": "Akanksha Mahajan",
      "photoUrl": "",
      "userId": "04246687864375744879"
     },
     "user_tz": -330
    },
    "id": "PjGO4s_yWTG9"
   },
   "outputs": [],
   "source": [
    "blackList = blackList.readlines()"
   ]
  },
  {
   "cell_type": "code",
   "execution_count": 6,
   "metadata": {
    "executionInfo": {
     "elapsed": 1258,
     "status": "ok",
     "timestamp": 1602414661981,
     "user": {
      "displayName": "Akanksha Mahajan",
      "photoUrl": "",
      "userId": "04246687864375744879"
     },
     "user_tz": -330
    },
    "id": "S9z7Kl6Z_Jcy",
    "scrolled": false
   },
   "outputs": [],
   "source": [
    "# source for appspot = https://www.sslcertificates.top/certificate/12296\n",
    "domains = [\"co.in\", \"co.uk\", \"co.za\", \"ac.in\", \"ac.th\", \"com.br\", \"ac.id\", \"com.ec\", \"org.au\", \"org.za\", \"com.hk\", \"org.ar\", \"com.au\", \".io\", \"web.app\", \"appspot.com\", \"an.r.appspot.com\", \"app.google\", \"as.r.appspot.com\", \"de.r.appspot.com\", \"df.r.appspot.com\", \"dt.r.appspot.com\", \"du.r.appspot.com\", \"el.r.appspot.com\", \"et.r.appspot.com\", \"ew.r.appspot.com\", \"ey.r.appspot.com\", \"ez.r.appspot.com\", \"lz.r.appspot.com\", \"nn.r.appspot.com\", \"nw.r.appspot.com\", \"nz.r.appspot.com\", \"oa.r.appspot.com\", \"rj.r.appspot.com\", \"thinkwithgoogle.com\", \"ts.r.appspot.com\", \"tz.r.appspot.com\", \"uc.r.appspot.com\", \"ue.r.appspot.com\", \"uk.r.appspot.com\", \"uw.r.appspot.com\", \"withgoogle.com\", \"blogspot.com\", \"withyoutube.com\", \"wl.r.appspot.com\", \"wm.r.appspot.com\", \"wn.r.appspot.com\", \"app.google\", \"appspot.com\", \"thinkwithgoogle.com\", \"withgoogle.com\", \"withyoutube.com\"]\n",
    "BlackList = []\n",
    "for url in blackList:\n",
    "    index = 0\n",
    "    # some has http or https or nothing\n",
    "    if \"http\" in url:\n",
    "        index = url.find('://')\n",
    "        url = url[3:]\n",
    "    url = url[index:]\n",
    "    index = url.find('/')\n",
    "    if index != -1:\n",
    "        url = url[:index]\n",
    "    prevUrl = url\n",
    "    index = url.find('.')\n",
    "    while index != -1:\n",
    "        prevUrl = url\n",
    "        url = url[index + 1:]\n",
    "        if url in domains:\n",
    "            break\n",
    "        index = url.find('.')\n",
    "    BlackList.append(prevUrl)\n",
    "blackList = BlackList\n",
    "BlackList = []\n",
    "def checkBlackList(url, blackList = blackList):\n",
    "    if url in blackList:\n",
    "        return True\n",
    "    return False"
   ]
  },
  {
   "cell_type": "markdown",
   "metadata": {},
   "source": [
    "## Whois Tool"
   ]
  },
  {
   "cell_type": "code",
   "execution_count": 12,
   "metadata": {
    "id": "n3DDdLZ0W34s"
   },
   "outputs": [],
   "source": [
    "def check_whois(url):\n",
    "    try:  \n",
    "        w = whois.whois(url)\n",
    "    except:\n",
    "        return True\n",
    "    try:\n",
    "        d = w.expiration_date.year - w.creation_date.year\n",
    "    except:\n",
    "        try:\n",
    "            d = w.expiration_date[0].year - w.creation_date[0].year\n",
    "            w.expiration_date = w.expiration_date[0]\n",
    "            w.creation_date = w.creation_date[0]\n",
    "        except:\n",
    "            d = 0\n",
    "    # no expiration date or no creation date\n",
    "    if not w.expiration_date or not w.creation_date:\n",
    "        return True\n",
    "    # difference <= 1 year or difference more than 200 years\n",
    "    if d <= 1 or d > 200:\n",
    "        return True\n",
    "    # current date exceeds expiration date\n",
    "    if datetime.now() > w.expiration_date:\n",
    "        return True\n",
    "    try:\n",
    "        org = w.org\n",
    "        reg = w.registrar\n",
    "        email = w.emails\n",
    "        status = w.status\n",
    "        if org is None or reg is None or email is None or status is None:\n",
    "            return True\n",
    "    except:\n",
    "        return True\n",
    "    return False"
   ]
  },
  {
   "cell_type": "code",
   "execution_count": 13,
   "metadata": {
    "scrolled": true
   },
   "outputs": [
    {
     "name": "stdout",
     "output_type": "stream",
     "text": [
      "Error trying to connect to socket: closing socket\n"
     ]
    },
    {
     "data": {
      "text/plain": [
       "True"
      ]
     },
     "execution_count": 13,
     "metadata": {},
     "output_type": "execute_result"
    }
   ],
   "source": [
    "# Checking non-phishing site\n",
    "url = \"https://www.google.com/\"\n",
    "check_whois(url)"
   ]
  },
  {
   "cell_type": "code",
   "execution_count": 9,
   "metadata": {
    "scrolled": true
   },
   "outputs": [
    {
     "name": "stdout",
     "output_type": "stream",
     "text": [
      "True\n",
      "True\n",
      "True\n"
     ]
    }
   ],
   "source": [
    "# Checking phishing site\n",
    "urls = [\"https://cbsujavrh.ts.r.appspot.com/login.microsoftonline.com/common/oauth2\", \"https://www.netflix.verfiy-your-information.com/\", \"https://g-amazon.top/amazon/login/login.php\"]\n",
    "for url in urls:\n",
    "  print(check_whois(url))"
   ]
  },
  {
   "cell_type": "markdown",
   "metadata": {},
   "source": [
    "## Google Search"
   ]
  },
  {
   "cell_type": "code",
   "execution_count": 14,
   "metadata": {},
   "outputs": [],
   "source": [
    "def check_google(url):\n",
    "    index = -1\n",
    "    rslt = search(url, num_results=0)\n",
    "    if len(rslt) != 0:\n",
    "        index = rslt[0].find('://')\n",
    "        if index != -1:\n",
    "            rslt = rslt[0][index + 3:]\n",
    "        index = rslt.find('/')\n",
    "        if index != -1:\n",
    "            rslt = rslt[:index]\n",
    "        index = url.find('://')\n",
    "        if index != -1:\n",
    "            url = url[index + 3:]  \n",
    "        index = url.find('/')\n",
    "        if index != -1:\n",
    "            url = url[:index]\n",
    "    if rslt == url:\n",
    "        return False\n",
    "    return True"
   ]
  },
  {
   "cell_type": "code",
   "execution_count": 15,
   "metadata": {},
   "outputs": [
    {
     "data": {
      "text/plain": [
       "False"
      ]
     },
     "execution_count": 15,
     "metadata": {},
     "output_type": "execute_result"
    }
   ],
   "source": [
    "# Checking non-phishing site\n",
    "url = \"www.google.com\"\n",
    "check_google(url)"
   ]
  },
  {
   "cell_type": "code",
   "execution_count": 16,
   "metadata": {},
   "outputs": [
    {
     "name": "stdout",
     "output_type": "stream",
     "text": [
      "True\n",
      "True\n",
      "True\n",
      "False\n"
     ]
    }
   ],
   "source": [
    "# Checking phishing site\n",
    "urls = [\"https://cbsujavrh.ts.r.appspot.com/login.microsoftonline.com/common/oauth2\", \"http://continouscrusader.com/www.amazon.com/preferredmethods/payment/Amazon\", \"http://tiny.cc/m5md0y?platform=hootsuite\", \"https://g-amazon.top/amazon/login/login.php\"]\n",
    "for url in urls:\n",
    "    print(check_google(url))"
   ]
  },
  {
   "cell_type": "markdown",
   "metadata": {},
   "source": [
    "## ML Model"
   ]
  },
  {
   "cell_type": "markdown",
   "metadata": {},
   "source": [
    "### ML Model 1"
   ]
  },
  {
   "cell_type": "code",
   "execution_count": 52,
   "metadata": {},
   "outputs": [],
   "source": [
    "# Filter the uneccesary warnings\n",
    "import warnings\n",
    "warnings.filterwarnings(\"ignore\")\n",
    " \n",
    "# Import pandas and numpy\n",
    "import pandas as pd\n",
    "import numpy as np\n",
    "import csv"
   ]
  },
  {
   "cell_type": "code",
   "execution_count": 53,
   "metadata": {},
   "outputs": [
    {
     "data": {
      "text/html": [
       "<div>\n",
       "<style scoped>\n",
       "    .dataframe tbody tr th:only-of-type {\n",
       "        vertical-align: middle;\n",
       "    }\n",
       "\n",
       "    .dataframe tbody tr th {\n",
       "        vertical-align: top;\n",
       "    }\n",
       "\n",
       "    .dataframe thead th {\n",
       "        text-align: right;\n",
       "    }\n",
       "</style>\n",
       "<table border=\"1\" class=\"dataframe\">\n",
       "  <thead>\n",
       "    <tr style=\"text-align: right;\">\n",
       "      <th></th>\n",
       "      <th>index</th>\n",
       "      <th>having_IP_Address</th>\n",
       "      <th>URL_Length</th>\n",
       "      <th>Shortining_Service</th>\n",
       "      <th>having_At_Symbol</th>\n",
       "      <th>double_slash_redirecting</th>\n",
       "      <th>Prefix_Suffix</th>\n",
       "      <th>having_Sub_Domain</th>\n",
       "      <th>SSLfinal_State</th>\n",
       "      <th>Domain_registeration_length</th>\n",
       "      <th>...</th>\n",
       "      <th>popUpWidnow</th>\n",
       "      <th>Iframe</th>\n",
       "      <th>age_of_domain</th>\n",
       "      <th>DNSRecord</th>\n",
       "      <th>web_traffic</th>\n",
       "      <th>Page_Rank</th>\n",
       "      <th>Google_Index</th>\n",
       "      <th>Links_pointing_to_page</th>\n",
       "      <th>Statistical_report</th>\n",
       "      <th>Result</th>\n",
       "    </tr>\n",
       "  </thead>\n",
       "  <tbody>\n",
       "    <tr>\n",
       "      <th>0</th>\n",
       "      <td>1</td>\n",
       "      <td>-1</td>\n",
       "      <td>1</td>\n",
       "      <td>1</td>\n",
       "      <td>1</td>\n",
       "      <td>-1</td>\n",
       "      <td>-1</td>\n",
       "      <td>-1</td>\n",
       "      <td>-1</td>\n",
       "      <td>-1</td>\n",
       "      <td>...</td>\n",
       "      <td>1</td>\n",
       "      <td>1</td>\n",
       "      <td>-1</td>\n",
       "      <td>-1</td>\n",
       "      <td>-1</td>\n",
       "      <td>-1</td>\n",
       "      <td>1</td>\n",
       "      <td>1</td>\n",
       "      <td>-1</td>\n",
       "      <td>-1</td>\n",
       "    </tr>\n",
       "    <tr>\n",
       "      <th>1</th>\n",
       "      <td>2</td>\n",
       "      <td>1</td>\n",
       "      <td>1</td>\n",
       "      <td>1</td>\n",
       "      <td>1</td>\n",
       "      <td>1</td>\n",
       "      <td>-1</td>\n",
       "      <td>0</td>\n",
       "      <td>1</td>\n",
       "      <td>-1</td>\n",
       "      <td>...</td>\n",
       "      <td>1</td>\n",
       "      <td>1</td>\n",
       "      <td>-1</td>\n",
       "      <td>-1</td>\n",
       "      <td>0</td>\n",
       "      <td>-1</td>\n",
       "      <td>1</td>\n",
       "      <td>1</td>\n",
       "      <td>1</td>\n",
       "      <td>-1</td>\n",
       "    </tr>\n",
       "    <tr>\n",
       "      <th>2</th>\n",
       "      <td>3</td>\n",
       "      <td>1</td>\n",
       "      <td>0</td>\n",
       "      <td>1</td>\n",
       "      <td>1</td>\n",
       "      <td>1</td>\n",
       "      <td>-1</td>\n",
       "      <td>-1</td>\n",
       "      <td>-1</td>\n",
       "      <td>-1</td>\n",
       "      <td>...</td>\n",
       "      <td>1</td>\n",
       "      <td>1</td>\n",
       "      <td>1</td>\n",
       "      <td>-1</td>\n",
       "      <td>1</td>\n",
       "      <td>-1</td>\n",
       "      <td>1</td>\n",
       "      <td>0</td>\n",
       "      <td>-1</td>\n",
       "      <td>-1</td>\n",
       "    </tr>\n",
       "    <tr>\n",
       "      <th>3</th>\n",
       "      <td>4</td>\n",
       "      <td>1</td>\n",
       "      <td>0</td>\n",
       "      <td>1</td>\n",
       "      <td>1</td>\n",
       "      <td>1</td>\n",
       "      <td>-1</td>\n",
       "      <td>-1</td>\n",
       "      <td>-1</td>\n",
       "      <td>1</td>\n",
       "      <td>...</td>\n",
       "      <td>1</td>\n",
       "      <td>1</td>\n",
       "      <td>-1</td>\n",
       "      <td>-1</td>\n",
       "      <td>1</td>\n",
       "      <td>-1</td>\n",
       "      <td>1</td>\n",
       "      <td>-1</td>\n",
       "      <td>1</td>\n",
       "      <td>-1</td>\n",
       "    </tr>\n",
       "    <tr>\n",
       "      <th>4</th>\n",
       "      <td>5</td>\n",
       "      <td>1</td>\n",
       "      <td>0</td>\n",
       "      <td>-1</td>\n",
       "      <td>1</td>\n",
       "      <td>1</td>\n",
       "      <td>-1</td>\n",
       "      <td>1</td>\n",
       "      <td>1</td>\n",
       "      <td>-1</td>\n",
       "      <td>...</td>\n",
       "      <td>-1</td>\n",
       "      <td>1</td>\n",
       "      <td>-1</td>\n",
       "      <td>-1</td>\n",
       "      <td>0</td>\n",
       "      <td>-1</td>\n",
       "      <td>1</td>\n",
       "      <td>1</td>\n",
       "      <td>1</td>\n",
       "      <td>1</td>\n",
       "    </tr>\n",
       "  </tbody>\n",
       "</table>\n",
       "<p>5 rows × 32 columns</p>\n",
       "</div>"
      ],
      "text/plain": [
       "   index  having_IP_Address  URL_Length  Shortining_Service  having_At_Symbol  \\\n",
       "0      1                 -1           1                   1                 1   \n",
       "1      2                  1           1                   1                 1   \n",
       "2      3                  1           0                   1                 1   \n",
       "3      4                  1           0                   1                 1   \n",
       "4      5                  1           0                  -1                 1   \n",
       "\n",
       "   double_slash_redirecting  Prefix_Suffix  having_Sub_Domain  SSLfinal_State  \\\n",
       "0                        -1             -1                 -1              -1   \n",
       "1                         1             -1                  0               1   \n",
       "2                         1             -1                 -1              -1   \n",
       "3                         1             -1                 -1              -1   \n",
       "4                         1             -1                  1               1   \n",
       "\n",
       "   Domain_registeration_length  ...  popUpWidnow  Iframe  age_of_domain  \\\n",
       "0                           -1  ...            1       1             -1   \n",
       "1                           -1  ...            1       1             -1   \n",
       "2                           -1  ...            1       1              1   \n",
       "3                            1  ...            1       1             -1   \n",
       "4                           -1  ...           -1       1             -1   \n",
       "\n",
       "   DNSRecord  web_traffic  Page_Rank  Google_Index  Links_pointing_to_page  \\\n",
       "0         -1           -1         -1             1                       1   \n",
       "1         -1            0         -1             1                       1   \n",
       "2         -1            1         -1             1                       0   \n",
       "3         -1            1         -1             1                      -1   \n",
       "4         -1            0         -1             1                       1   \n",
       "\n",
       "   Statistical_report  Result  \n",
       "0                  -1      -1  \n",
       "1                   1      -1  \n",
       "2                  -1      -1  \n",
       "3                   1      -1  \n",
       "4                   1       1  \n",
       "\n",
       "[5 rows x 32 columns]"
      ]
     },
     "execution_count": 53,
     "metadata": {},
     "output_type": "execute_result"
    }
   ],
   "source": [
    "data = pd.read_csv('dataset.csv')\n",
    "data.head()"
   ]
  },
  {
   "cell_type": "code",
   "execution_count": 54,
   "metadata": {
    "scrolled": true
   },
   "outputs": [
    {
     "name": "stdout",
     "output_type": "stream",
     "text": [
      "<class 'pandas.core.frame.DataFrame'>\n",
      "RangeIndex: 11055 entries, 0 to 11054\n",
      "Data columns (total 31 columns):\n",
      " #   Column                       Non-Null Count  Dtype\n",
      "---  ------                       --------------  -----\n",
      " 0   having_IP_Address            11055 non-null  int64\n",
      " 1   URL_Length                   11055 non-null  int64\n",
      " 2   Shortining_Service           11055 non-null  int64\n",
      " 3   having_At_Symbol             11055 non-null  int64\n",
      " 4   double_slash_redirecting     11055 non-null  int64\n",
      " 5   Prefix_Suffix                11055 non-null  int64\n",
      " 6   having_Sub_Domain            11055 non-null  int64\n",
      " 7   SSLfinal_State               11055 non-null  int64\n",
      " 8   Domain_registeration_length  11055 non-null  int64\n",
      " 9   Favicon                      11055 non-null  int64\n",
      " 10  port                         11055 non-null  int64\n",
      " 11  HTTPS_token                  11055 non-null  int64\n",
      " 12  Request_URL                  11055 non-null  int64\n",
      " 13  URL_of_Anchor                11055 non-null  int64\n",
      " 14  Links_in_tags                11055 non-null  int64\n",
      " 15  SFH                          11055 non-null  int64\n",
      " 16  Submitting_to_email          11055 non-null  int64\n",
      " 17  Abnormal_URL                 11055 non-null  int64\n",
      " 18  Redirect                     11055 non-null  int64\n",
      " 19  on_mouseover                 11055 non-null  int64\n",
      " 20  RightClick                   11055 non-null  int64\n",
      " 21  popUpWidnow                  11055 non-null  int64\n",
      " 22  Iframe                       11055 non-null  int64\n",
      " 23  age_of_domain                11055 non-null  int64\n",
      " 24  DNSRecord                    11055 non-null  int64\n",
      " 25  web_traffic                  11055 non-null  int64\n",
      " 26  Page_Rank                    11055 non-null  int64\n",
      " 27  Google_Index                 11055 non-null  int64\n",
      " 28  Links_pointing_to_page       11055 non-null  int64\n",
      " 29  Statistical_report           11055 non-null  int64\n",
      " 30  Result                       11055 non-null  int64\n",
      "dtypes: int64(31)\n",
      "memory usage: 2.6 MB\n"
     ]
    }
   ],
   "source": [
    "data = data.drop(['index'], axis = 1)\n",
    "data.info()"
   ]
  },
  {
   "cell_type": "code",
   "execution_count": 55,
   "metadata": {},
   "outputs": [
    {
     "name": "stdout",
     "output_type": "stream",
     "text": [
      "(11055, 31)\n",
      "Index(['having_IP_Address', 'URL_Length', 'Shortining_Service',\n",
      "       'having_At_Symbol', 'double_slash_redirecting', 'Prefix_Suffix',\n",
      "       'having_Sub_Domain', 'SSLfinal_State', 'Domain_registeration_length',\n",
      "       'Favicon', 'port', 'HTTPS_token', 'Request_URL', 'URL_of_Anchor',\n",
      "       'Links_in_tags', 'SFH', 'Submitting_to_email', 'Abnormal_URL',\n",
      "       'Redirect', 'on_mouseover', 'RightClick', 'popUpWidnow', 'Iframe',\n",
      "       'age_of_domain', 'DNSRecord', 'web_traffic', 'Page_Rank',\n",
      "       'Google_Index', 'Links_pointing_to_page', 'Statistical_report',\n",
      "       'Result'],\n",
      "      dtype='object')\n"
     ]
    }
   ],
   "source": [
    "print(data.shape)\n",
    "print(data.columns)"
   ]
  },
  {
   "cell_type": "code",
   "execution_count": 56,
   "metadata": {},
   "outputs": [
    {
     "name": "stdout",
     "output_type": "stream",
     "text": [
      "[(1, 6157), (-1, 4898)]\n"
     ]
    },
    {
     "data": {
      "text/html": [
       "<div>\n",
       "<style scoped>\n",
       "    .dataframe tbody tr th:only-of-type {\n",
       "        vertical-align: middle;\n",
       "    }\n",
       "\n",
       "    .dataframe tbody tr th {\n",
       "        vertical-align: top;\n",
       "    }\n",
       "\n",
       "    .dataframe thead th {\n",
       "        text-align: right;\n",
       "    }\n",
       "</style>\n",
       "<table border=\"1\" class=\"dataframe\">\n",
       "  <thead>\n",
       "    <tr style=\"text-align: right;\">\n",
       "      <th></th>\n",
       "      <th>Class</th>\n",
       "      <th>Num_Observations</th>\n",
       "    </tr>\n",
       "  </thead>\n",
       "  <tbody>\n",
       "    <tr>\n",
       "      <th>0</th>\n",
       "      <td>1</td>\n",
       "      <td>6157</td>\n",
       "    </tr>\n",
       "    <tr>\n",
       "      <th>1</th>\n",
       "      <td>-1</td>\n",
       "      <td>4898</td>\n",
       "    </tr>\n",
       "  </tbody>\n",
       "</table>\n",
       "</div>"
      ],
      "text/plain": [
       "   Class  Num_Observations\n",
       "0      1              6157\n",
       "1     -1              4898"
      ]
     },
     "execution_count": 56,
     "metadata": {},
     "output_type": "execute_result"
    }
   ],
   "source": [
    "classes = Counter(data['Result'].values)\n",
    "print(classes.most_common())\n",
    "class_dist = pd.DataFrame(classes.most_common(), columns=['Class', 'Num_Observations'])\n",
    "class_dist"
   ]
  },
  {
   "cell_type": "code",
   "execution_count": 57,
   "metadata": {},
   "outputs": [],
   "source": [
    "data.rename(columns={'Result': 'Class'}, inplace=True)\n",
    "data['Class'] = data['Class'].map({-1:0, 1:1})\n",
    "# 0: Phishing 1: Legitimate"
   ]
  },
  {
   "cell_type": "code",
   "execution_count": 58,
   "metadata": {},
   "outputs": [
    {
     "data": {
      "text/html": [
       "<div>\n",
       "<style scoped>\n",
       "    .dataframe tbody tr th:only-of-type {\n",
       "        vertical-align: middle;\n",
       "    }\n",
       "\n",
       "    .dataframe tbody tr th {\n",
       "        vertical-align: top;\n",
       "    }\n",
       "\n",
       "    .dataframe thead th {\n",
       "        text-align: right;\n",
       "    }\n",
       "</style>\n",
       "<table border=\"1\" class=\"dataframe\">\n",
       "  <thead>\n",
       "    <tr style=\"text-align: right;\">\n",
       "      <th></th>\n",
       "      <th>having_IP_Address</th>\n",
       "      <th>URL_Length</th>\n",
       "      <th>Shortining_Service</th>\n",
       "      <th>having_At_Symbol</th>\n",
       "      <th>double_slash_redirecting</th>\n",
       "      <th>Prefix_Suffix</th>\n",
       "      <th>having_Sub_Domain</th>\n",
       "      <th>SSLfinal_State</th>\n",
       "      <th>Domain_registeration_length</th>\n",
       "      <th>Favicon</th>\n",
       "      <th>...</th>\n",
       "      <th>popUpWidnow</th>\n",
       "      <th>Iframe</th>\n",
       "      <th>age_of_domain</th>\n",
       "      <th>DNSRecord</th>\n",
       "      <th>web_traffic</th>\n",
       "      <th>Page_Rank</th>\n",
       "      <th>Google_Index</th>\n",
       "      <th>Links_pointing_to_page</th>\n",
       "      <th>Statistical_report</th>\n",
       "      <th>Class</th>\n",
       "    </tr>\n",
       "  </thead>\n",
       "  <tbody>\n",
       "    <tr>\n",
       "      <th>count</th>\n",
       "      <td>11055.000000</td>\n",
       "      <td>11055.000000</td>\n",
       "      <td>11055.000000</td>\n",
       "      <td>11055.000000</td>\n",
       "      <td>11055.000000</td>\n",
       "      <td>11055.000000</td>\n",
       "      <td>11055.000000</td>\n",
       "      <td>11055.000000</td>\n",
       "      <td>11055.000000</td>\n",
       "      <td>11055.000000</td>\n",
       "      <td>...</td>\n",
       "      <td>11055.000000</td>\n",
       "      <td>11055.000000</td>\n",
       "      <td>11055.000000</td>\n",
       "      <td>11055.000000</td>\n",
       "      <td>11055.000000</td>\n",
       "      <td>11055.000000</td>\n",
       "      <td>11055.000000</td>\n",
       "      <td>11055.000000</td>\n",
       "      <td>11055.000000</td>\n",
       "      <td>11055.000000</td>\n",
       "    </tr>\n",
       "    <tr>\n",
       "      <th>mean</th>\n",
       "      <td>0.313795</td>\n",
       "      <td>-0.633198</td>\n",
       "      <td>0.738761</td>\n",
       "      <td>0.700588</td>\n",
       "      <td>0.741474</td>\n",
       "      <td>-0.734962</td>\n",
       "      <td>0.063953</td>\n",
       "      <td>0.250927</td>\n",
       "      <td>-0.336771</td>\n",
       "      <td>0.628584</td>\n",
       "      <td>...</td>\n",
       "      <td>0.613388</td>\n",
       "      <td>0.816915</td>\n",
       "      <td>0.061239</td>\n",
       "      <td>0.377114</td>\n",
       "      <td>0.287291</td>\n",
       "      <td>-0.483673</td>\n",
       "      <td>0.721574</td>\n",
       "      <td>0.344007</td>\n",
       "      <td>0.719584</td>\n",
       "      <td>0.556943</td>\n",
       "    </tr>\n",
       "    <tr>\n",
       "      <th>std</th>\n",
       "      <td>0.949534</td>\n",
       "      <td>0.766095</td>\n",
       "      <td>0.673998</td>\n",
       "      <td>0.713598</td>\n",
       "      <td>0.671011</td>\n",
       "      <td>0.678139</td>\n",
       "      <td>0.817518</td>\n",
       "      <td>0.911892</td>\n",
       "      <td>0.941629</td>\n",
       "      <td>0.777777</td>\n",
       "      <td>...</td>\n",
       "      <td>0.789818</td>\n",
       "      <td>0.576784</td>\n",
       "      <td>0.998168</td>\n",
       "      <td>0.926209</td>\n",
       "      <td>0.827733</td>\n",
       "      <td>0.875289</td>\n",
       "      <td>0.692369</td>\n",
       "      <td>0.569944</td>\n",
       "      <td>0.694437</td>\n",
       "      <td>0.496769</td>\n",
       "    </tr>\n",
       "    <tr>\n",
       "      <th>min</th>\n",
       "      <td>-1.000000</td>\n",
       "      <td>-1.000000</td>\n",
       "      <td>-1.000000</td>\n",
       "      <td>-1.000000</td>\n",
       "      <td>-1.000000</td>\n",
       "      <td>-1.000000</td>\n",
       "      <td>-1.000000</td>\n",
       "      <td>-1.000000</td>\n",
       "      <td>-1.000000</td>\n",
       "      <td>-1.000000</td>\n",
       "      <td>...</td>\n",
       "      <td>-1.000000</td>\n",
       "      <td>-1.000000</td>\n",
       "      <td>-1.000000</td>\n",
       "      <td>-1.000000</td>\n",
       "      <td>-1.000000</td>\n",
       "      <td>-1.000000</td>\n",
       "      <td>-1.000000</td>\n",
       "      <td>-1.000000</td>\n",
       "      <td>-1.000000</td>\n",
       "      <td>0.000000</td>\n",
       "    </tr>\n",
       "    <tr>\n",
       "      <th>25%</th>\n",
       "      <td>-1.000000</td>\n",
       "      <td>-1.000000</td>\n",
       "      <td>1.000000</td>\n",
       "      <td>1.000000</td>\n",
       "      <td>1.000000</td>\n",
       "      <td>-1.000000</td>\n",
       "      <td>-1.000000</td>\n",
       "      <td>-1.000000</td>\n",
       "      <td>-1.000000</td>\n",
       "      <td>1.000000</td>\n",
       "      <td>...</td>\n",
       "      <td>1.000000</td>\n",
       "      <td>1.000000</td>\n",
       "      <td>-1.000000</td>\n",
       "      <td>-1.000000</td>\n",
       "      <td>0.000000</td>\n",
       "      <td>-1.000000</td>\n",
       "      <td>1.000000</td>\n",
       "      <td>0.000000</td>\n",
       "      <td>1.000000</td>\n",
       "      <td>0.000000</td>\n",
       "    </tr>\n",
       "    <tr>\n",
       "      <th>50%</th>\n",
       "      <td>1.000000</td>\n",
       "      <td>-1.000000</td>\n",
       "      <td>1.000000</td>\n",
       "      <td>1.000000</td>\n",
       "      <td>1.000000</td>\n",
       "      <td>-1.000000</td>\n",
       "      <td>0.000000</td>\n",
       "      <td>1.000000</td>\n",
       "      <td>-1.000000</td>\n",
       "      <td>1.000000</td>\n",
       "      <td>...</td>\n",
       "      <td>1.000000</td>\n",
       "      <td>1.000000</td>\n",
       "      <td>1.000000</td>\n",
       "      <td>1.000000</td>\n",
       "      <td>1.000000</td>\n",
       "      <td>-1.000000</td>\n",
       "      <td>1.000000</td>\n",
       "      <td>0.000000</td>\n",
       "      <td>1.000000</td>\n",
       "      <td>1.000000</td>\n",
       "    </tr>\n",
       "    <tr>\n",
       "      <th>75%</th>\n",
       "      <td>1.000000</td>\n",
       "      <td>-1.000000</td>\n",
       "      <td>1.000000</td>\n",
       "      <td>1.000000</td>\n",
       "      <td>1.000000</td>\n",
       "      <td>-1.000000</td>\n",
       "      <td>1.000000</td>\n",
       "      <td>1.000000</td>\n",
       "      <td>1.000000</td>\n",
       "      <td>1.000000</td>\n",
       "      <td>...</td>\n",
       "      <td>1.000000</td>\n",
       "      <td>1.000000</td>\n",
       "      <td>1.000000</td>\n",
       "      <td>1.000000</td>\n",
       "      <td>1.000000</td>\n",
       "      <td>1.000000</td>\n",
       "      <td>1.000000</td>\n",
       "      <td>1.000000</td>\n",
       "      <td>1.000000</td>\n",
       "      <td>1.000000</td>\n",
       "    </tr>\n",
       "    <tr>\n",
       "      <th>max</th>\n",
       "      <td>1.000000</td>\n",
       "      <td>1.000000</td>\n",
       "      <td>1.000000</td>\n",
       "      <td>1.000000</td>\n",
       "      <td>1.000000</td>\n",
       "      <td>1.000000</td>\n",
       "      <td>1.000000</td>\n",
       "      <td>1.000000</td>\n",
       "      <td>1.000000</td>\n",
       "      <td>1.000000</td>\n",
       "      <td>...</td>\n",
       "      <td>1.000000</td>\n",
       "      <td>1.000000</td>\n",
       "      <td>1.000000</td>\n",
       "      <td>1.000000</td>\n",
       "      <td>1.000000</td>\n",
       "      <td>1.000000</td>\n",
       "      <td>1.000000</td>\n",
       "      <td>1.000000</td>\n",
       "      <td>1.000000</td>\n",
       "      <td>1.000000</td>\n",
       "    </tr>\n",
       "  </tbody>\n",
       "</table>\n",
       "<p>8 rows × 31 columns</p>\n",
       "</div>"
      ],
      "text/plain": [
       "       having_IP_Address    URL_Length  Shortining_Service  having_At_Symbol  \\\n",
       "count       11055.000000  11055.000000        11055.000000      11055.000000   \n",
       "mean            0.313795     -0.633198            0.738761          0.700588   \n",
       "std             0.949534      0.766095            0.673998          0.713598   \n",
       "min            -1.000000     -1.000000           -1.000000         -1.000000   \n",
       "25%            -1.000000     -1.000000            1.000000          1.000000   \n",
       "50%             1.000000     -1.000000            1.000000          1.000000   \n",
       "75%             1.000000     -1.000000            1.000000          1.000000   \n",
       "max             1.000000      1.000000            1.000000          1.000000   \n",
       "\n",
       "       double_slash_redirecting  Prefix_Suffix  having_Sub_Domain  \\\n",
       "count              11055.000000   11055.000000       11055.000000   \n",
       "mean                   0.741474      -0.734962           0.063953   \n",
       "std                    0.671011       0.678139           0.817518   \n",
       "min                   -1.000000      -1.000000          -1.000000   \n",
       "25%                    1.000000      -1.000000          -1.000000   \n",
       "50%                    1.000000      -1.000000           0.000000   \n",
       "75%                    1.000000      -1.000000           1.000000   \n",
       "max                    1.000000       1.000000           1.000000   \n",
       "\n",
       "       SSLfinal_State  Domain_registeration_length       Favicon  ...  \\\n",
       "count    11055.000000                 11055.000000  11055.000000  ...   \n",
       "mean         0.250927                    -0.336771      0.628584  ...   \n",
       "std          0.911892                     0.941629      0.777777  ...   \n",
       "min         -1.000000                    -1.000000     -1.000000  ...   \n",
       "25%         -1.000000                    -1.000000      1.000000  ...   \n",
       "50%          1.000000                    -1.000000      1.000000  ...   \n",
       "75%          1.000000                     1.000000      1.000000  ...   \n",
       "max          1.000000                     1.000000      1.000000  ...   \n",
       "\n",
       "        popUpWidnow        Iframe  age_of_domain     DNSRecord   web_traffic  \\\n",
       "count  11055.000000  11055.000000   11055.000000  11055.000000  11055.000000   \n",
       "mean       0.613388      0.816915       0.061239      0.377114      0.287291   \n",
       "std        0.789818      0.576784       0.998168      0.926209      0.827733   \n",
       "min       -1.000000     -1.000000      -1.000000     -1.000000     -1.000000   \n",
       "25%        1.000000      1.000000      -1.000000     -1.000000      0.000000   \n",
       "50%        1.000000      1.000000       1.000000      1.000000      1.000000   \n",
       "75%        1.000000      1.000000       1.000000      1.000000      1.000000   \n",
       "max        1.000000      1.000000       1.000000      1.000000      1.000000   \n",
       "\n",
       "          Page_Rank  Google_Index  Links_pointing_to_page  Statistical_report  \\\n",
       "count  11055.000000  11055.000000            11055.000000        11055.000000   \n",
       "mean      -0.483673      0.721574                0.344007            0.719584   \n",
       "std        0.875289      0.692369                0.569944            0.694437   \n",
       "min       -1.000000     -1.000000               -1.000000           -1.000000   \n",
       "25%       -1.000000      1.000000                0.000000            1.000000   \n",
       "50%       -1.000000      1.000000                0.000000            1.000000   \n",
       "75%        1.000000      1.000000                1.000000            1.000000   \n",
       "max        1.000000      1.000000                1.000000            1.000000   \n",
       "\n",
       "              Class  \n",
       "count  11055.000000  \n",
       "mean       0.556943  \n",
       "std        0.496769  \n",
       "min        0.000000  \n",
       "25%        0.000000  \n",
       "50%        1.000000  \n",
       "75%        1.000000  \n",
       "max        1.000000  \n",
       "\n",
       "[8 rows x 31 columns]"
      ]
     },
     "execution_count": 58,
     "metadata": {},
     "output_type": "execute_result"
    }
   ],
   "source": [
    "data.describe()"
   ]
  },
  {
   "cell_type": "code",
   "execution_count": 59,
   "metadata": {
    "scrolled": true
   },
   "outputs": [
    {
     "data": {
      "text/plain": [
       "having_IP_Address              0\n",
       "URL_Length                     0\n",
       "Shortining_Service             0\n",
       "having_At_Symbol               0\n",
       "double_slash_redirecting       0\n",
       "Prefix_Suffix                  0\n",
       "having_Sub_Domain              0\n",
       "SSLfinal_State                 0\n",
       "Domain_registeration_length    0\n",
       "Favicon                        0\n",
       "port                           0\n",
       "HTTPS_token                    0\n",
       "Request_URL                    0\n",
       "URL_of_Anchor                  0\n",
       "Links_in_tags                  0\n",
       "SFH                            0\n",
       "Submitting_to_email            0\n",
       "Abnormal_URL                   0\n",
       "Redirect                       0\n",
       "on_mouseover                   0\n",
       "RightClick                     0\n",
       "popUpWidnow                    0\n",
       "Iframe                         0\n",
       "age_of_domain                  0\n",
       "DNSRecord                      0\n",
       "web_traffic                    0\n",
       "Page_Rank                      0\n",
       "Google_Index                   0\n",
       "Links_pointing_to_page         0\n",
       "Statistical_report             0\n",
       "Class                          0\n",
       "dtype: int64"
      ]
     },
     "execution_count": 59,
     "metadata": {},
     "output_type": "execute_result"
    }
   ],
   "source": [
    "data.isna().sum()"
   ]
  },
  {
   "cell_type": "code",
   "execution_count": 60,
   "metadata": {
    "scrolled": true
   },
   "outputs": [
    {
     "data": {
      "image/png": "[encoded data removed]",
      "text/plain": [
       "<Figure size 720x576 with 1 Axes>"
      ]
     },
     "metadata": {},
     "output_type": "display_data"
    }
   ],
   "source": [
    "# display distribution\n",
    "plt.style.use('ggplot')\n",
    "\n",
    "subplot = class_dist.groupby('Class')['Num_Observations'].sum().plot(kind='barh', width=0.2, figsize=(10,8))\n",
    "\n",
    "subplot.set_title('Class distribution of the websites', fontsize = 15)\n",
    "subplot.set_xlabel('Number of Observations', fontsize = 14)\n",
    "subplot.set_ylabel('Class', fontsize = 14)\n",
    "\n",
    "for i in subplot.patches:\n",
    "    subplot.text(i.get_width()+0.1, i.get_y()+0.1, \\\n",
    "            str(i.get_width()), fontsize=11)"
   ]
  },
  {
   "cell_type": "code",
   "execution_count": 63,
   "metadata": {},
   "outputs": [],
   "source": [
    "# Data Splitting\n",
    "X = data.iloc[:,0:30].values.astype(int)\n",
    "y = data.iloc[:,30].values.astype(int)\n",
    "\n",
    "X_train, X_test, y_train, y_test = train_test_split(X, y, test_size=0.2, random_state=np.random.seed(7))"
   ]
  },
  {
   "cell_type": "code",
   "execution_count": 64,
   "metadata": {},
   "outputs": [
    {
     "data": {
      "text/plain": [
       "LogisticRegression()"
      ]
     },
     "execution_count": 64,
     "metadata": {},
     "output_type": "execute_result"
    }
   ],
   "source": [
    "logreg = LogisticRegression()\n",
    "logreg.fit(X_train, y_train)"
   ]
  },
  {
   "cell_type": "code",
   "execution_count": 67,
   "metadata": {},
   "outputs": [
    {
     "name": "stdout",
     "output_type": "stream",
     "text": [
      "Accuracy score of the Logistic Regression classifier with default hyperparameter values 93.71%\n",
      "\n",
      "\n",
      "----Classification report of the Logistic Regression classifier with default hyperparameter value----\n",
      "\n",
      "\n",
      "                   precision    recall  f1-score   support\n",
      "\n",
      "Phishing Websites       0.94      0.92      0.93       974\n",
      "  Normal Websites       0.94      0.95      0.94      1237\n",
      "\n",
      "         accuracy                           0.94      2211\n",
      "        macro avg       0.94      0.94      0.94      2211\n",
      "     weighted avg       0.94      0.94      0.94      2211\n",
      "\n"
     ]
    }
   ],
   "source": [
    "\n",
    "from sklearn.metrics import accuracy_score, classification_report\n",
    "\n",
    "print('Accuracy score of the Logistic Regression classifier with default hyperparameter values {0:.2f}%'.format(accuracy_score(y_test, logreg.predict(X_test))*100.))\n",
    "print('\\n')\n",
    "print('----Classification report of the Logistic Regression classifier with default hyperparameter value----')\n",
    "print('\\n')\n",
    "print(classification_report(y_test, logreg.predict(X_test), target_names=['Phishing Websites', 'Normal Websites']))"
   ]
  },
  {
   "cell_type": "code",
   "execution_count": 68,
   "metadata": {},
   "outputs": [
    {
     "name": "stdout",
     "output_type": "stream",
     "text": [
      "0.9371325192220714\n",
      "0.935302505399066\n",
      "0.944199116820554\n",
      "[[ 1 -1  1 ...  1  0  1]\n",
      " [-1 -1  1 ...  1  1  1]\n",
      " [ 1 -1  1 ... -1  0  1]\n",
      " ...\n",
      " [ 1 -1  1 ...  1  1  1]\n",
      " [ 1 -1  1 ...  1  1  1]\n",
      " [-1 -1  1 ... -1  1  1]]\n"
     ]
    }
   ],
   "source": [
    "preds = logreg.predict(X_test).astype(int)\n",
    "accuracy = logreg.score(X_test,y_test)\n",
    "fpr, tpr, thresholds = metrics.roc_curve(y_test, preds)\n",
    "AUC = metrics.auc(fpr,tpr)\n",
    "F1 = metrics.f1_score(y_test,preds)\n",
    "print(accuracy)\n",
    "print(AUC)\n",
    "print(F1)\n",
    "print(X_test)"
   ]
  },
  {
   "cell_type": "markdown",
   "metadata": {},
   "source": [
    "### ML Model 2"
   ]
  },
  {
   "cell_type": "code",
   "execution_count": 70,
   "metadata": {},
   "outputs": [
    {
     "data": {
      "text/html": [
       "<div>\n",
       "<style scoped>\n",
       "    .dataframe tbody tr th:only-of-type {\n",
       "        vertical-align: middle;\n",
       "    }\n",
       "\n",
       "    .dataframe tbody tr th {\n",
       "        vertical-align: top;\n",
       "    }\n",
       "\n",
       "    .dataframe thead th {\n",
       "        text-align: right;\n",
       "    }\n",
       "</style>\n",
       "<table border=\"1\" class=\"dataframe\">\n",
       "  <thead>\n",
       "    <tr style=\"text-align: right;\">\n",
       "      <th></th>\n",
       "      <th>index</th>\n",
       "      <th>having_IP_Address</th>\n",
       "      <th>URL_Length</th>\n",
       "      <th>Shortining_Service</th>\n",
       "      <th>having_At_Symbol</th>\n",
       "      <th>double_slash_redirecting</th>\n",
       "      <th>Prefix_Suffix</th>\n",
       "      <th>having_Sub_Domain</th>\n",
       "      <th>SSLfinal_State</th>\n",
       "      <th>Domain_registeration_length</th>\n",
       "      <th>...</th>\n",
       "      <th>popUpWidnow</th>\n",
       "      <th>Iframe</th>\n",
       "      <th>age_of_domain</th>\n",
       "      <th>DNSRecord</th>\n",
       "      <th>web_traffic</th>\n",
       "      <th>Page_Rank</th>\n",
       "      <th>Google_Index</th>\n",
       "      <th>Links_pointing_to_page</th>\n",
       "      <th>Statistical_report</th>\n",
       "      <th>Result</th>\n",
       "    </tr>\n",
       "  </thead>\n",
       "  <tbody>\n",
       "    <tr>\n",
       "      <th>0</th>\n",
       "      <td>1</td>\n",
       "      <td>-1</td>\n",
       "      <td>1</td>\n",
       "      <td>1</td>\n",
       "      <td>1</td>\n",
       "      <td>-1</td>\n",
       "      <td>-1</td>\n",
       "      <td>-1</td>\n",
       "      <td>-1</td>\n",
       "      <td>-1</td>\n",
       "      <td>...</td>\n",
       "      <td>1</td>\n",
       "      <td>1</td>\n",
       "      <td>-1</td>\n",
       "      <td>-1</td>\n",
       "      <td>-1</td>\n",
       "      <td>-1</td>\n",
       "      <td>1</td>\n",
       "      <td>1</td>\n",
       "      <td>-1</td>\n",
       "      <td>-1</td>\n",
       "    </tr>\n",
       "    <tr>\n",
       "      <th>1</th>\n",
       "      <td>2</td>\n",
       "      <td>1</td>\n",
       "      <td>1</td>\n",
       "      <td>1</td>\n",
       "      <td>1</td>\n",
       "      <td>1</td>\n",
       "      <td>-1</td>\n",
       "      <td>0</td>\n",
       "      <td>1</td>\n",
       "      <td>-1</td>\n",
       "      <td>...</td>\n",
       "      <td>1</td>\n",
       "      <td>1</td>\n",
       "      <td>-1</td>\n",
       "      <td>-1</td>\n",
       "      <td>0</td>\n",
       "      <td>-1</td>\n",
       "      <td>1</td>\n",
       "      <td>1</td>\n",
       "      <td>1</td>\n",
       "      <td>-1</td>\n",
       "    </tr>\n",
       "    <tr>\n",
       "      <th>2</th>\n",
       "      <td>3</td>\n",
       "      <td>1</td>\n",
       "      <td>0</td>\n",
       "      <td>1</td>\n",
       "      <td>1</td>\n",
       "      <td>1</td>\n",
       "      <td>-1</td>\n",
       "      <td>-1</td>\n",
       "      <td>-1</td>\n",
       "      <td>-1</td>\n",
       "      <td>...</td>\n",
       "      <td>1</td>\n",
       "      <td>1</td>\n",
       "      <td>1</td>\n",
       "      <td>-1</td>\n",
       "      <td>1</td>\n",
       "      <td>-1</td>\n",
       "      <td>1</td>\n",
       "      <td>0</td>\n",
       "      <td>-1</td>\n",
       "      <td>-1</td>\n",
       "    </tr>\n",
       "    <tr>\n",
       "      <th>3</th>\n",
       "      <td>4</td>\n",
       "      <td>1</td>\n",
       "      <td>0</td>\n",
       "      <td>1</td>\n",
       "      <td>1</td>\n",
       "      <td>1</td>\n",
       "      <td>-1</td>\n",
       "      <td>-1</td>\n",
       "      <td>-1</td>\n",
       "      <td>1</td>\n",
       "      <td>...</td>\n",
       "      <td>1</td>\n",
       "      <td>1</td>\n",
       "      <td>-1</td>\n",
       "      <td>-1</td>\n",
       "      <td>1</td>\n",
       "      <td>-1</td>\n",
       "      <td>1</td>\n",
       "      <td>-1</td>\n",
       "      <td>1</td>\n",
       "      <td>-1</td>\n",
       "    </tr>\n",
       "    <tr>\n",
       "      <th>4</th>\n",
       "      <td>5</td>\n",
       "      <td>1</td>\n",
       "      <td>0</td>\n",
       "      <td>-1</td>\n",
       "      <td>1</td>\n",
       "      <td>1</td>\n",
       "      <td>-1</td>\n",
       "      <td>1</td>\n",
       "      <td>1</td>\n",
       "      <td>-1</td>\n",
       "      <td>...</td>\n",
       "      <td>-1</td>\n",
       "      <td>1</td>\n",
       "      <td>-1</td>\n",
       "      <td>-1</td>\n",
       "      <td>0</td>\n",
       "      <td>-1</td>\n",
       "      <td>1</td>\n",
       "      <td>1</td>\n",
       "      <td>1</td>\n",
       "      <td>1</td>\n",
       "    </tr>\n",
       "  </tbody>\n",
       "</table>\n",
       "<p>5 rows × 32 columns</p>\n",
       "</div>"
      ],
      "text/plain": [
       "   index  having_IP_Address  URL_Length  Shortining_Service  having_At_Symbol  \\\n",
       "0      1                 -1           1                   1                 1   \n",
       "1      2                  1           1                   1                 1   \n",
       "2      3                  1           0                   1                 1   \n",
       "3      4                  1           0                   1                 1   \n",
       "4      5                  1           0                  -1                 1   \n",
       "\n",
       "   double_slash_redirecting  Prefix_Suffix  having_Sub_Domain  SSLfinal_State  \\\n",
       "0                        -1             -1                 -1              -1   \n",
       "1                         1             -1                  0               1   \n",
       "2                         1             -1                 -1              -1   \n",
       "3                         1             -1                 -1              -1   \n",
       "4                         1             -1                  1               1   \n",
       "\n",
       "   Domain_registeration_length  ...  popUpWidnow  Iframe  age_of_domain  \\\n",
       "0                           -1  ...            1       1             -1   \n",
       "1                           -1  ...            1       1             -1   \n",
       "2                           -1  ...            1       1              1   \n",
       "3                            1  ...            1       1             -1   \n",
       "4                           -1  ...           -1       1             -1   \n",
       "\n",
       "   DNSRecord  web_traffic  Page_Rank  Google_Index  Links_pointing_to_page  \\\n",
       "0         -1           -1         -1             1                       1   \n",
       "1         -1            0         -1             1                       1   \n",
       "2         -1            1         -1             1                       0   \n",
       "3         -1            1         -1             1                      -1   \n",
       "4         -1            0         -1             1                       1   \n",
       "\n",
       "   Statistical_report  Result  \n",
       "0                  -1      -1  \n",
       "1                   1      -1  \n",
       "2                  -1      -1  \n",
       "3                   1      -1  \n",
       "4                   1       1  \n",
       "\n",
       "[5 rows x 32 columns]"
      ]
     },
     "execution_count": 70,
     "metadata": {},
     "output_type": "execute_result"
    }
   ],
   "source": [
    "data = pd.read_csv('dataset.csv')\n",
    "data.head()"
   ]
  },
  {
   "cell_type": "code",
   "execution_count": 71,
   "metadata": {},
   "outputs": [
    {
     "data": {
      "text/plain": [
       "Index(['having_IP_Address', 'URL_Length', 'Shortining_Service',\n",
       "       'having_At_Symbol', 'double_slash_redirecting', 'Prefix_Suffix',\n",
       "       'SSLfinal_State', 'Domain_registeration_length', 'age_of_domain',\n",
       "       'DNSRecord', 'web_traffic', 'Google_Index', 'Result'],\n",
       "      dtype='object')"
      ]
     },
     "execution_count": 71,
     "metadata": {},
     "output_type": "execute_result"
    }
   ],
   "source": [
    "data = data.drop(columns=['index', 'having_Sub_Domain', 'Favicon', 'port', 'HTTPS_token', 'Request_URL', 'URL_of_Anchor',\n",
    "       'Links_in_tags', 'SFH', 'Submitting_to_email', 'Abnormal_URL',\n",
    "       'Redirect', 'on_mouseover', 'RightClick', 'popUpWidnow', 'Iframe', 'Page_Rank', 'Links_pointing_to_page', 'Statistical_report'])\n",
    "data.columns"
   ]
  },
  {
   "cell_type": "code",
   "execution_count": 74,
   "metadata": {},
   "outputs": [
    {
     "data": {
      "text/html": [
       "<div>\n",
       "<style scoped>\n",
       "    .dataframe tbody tr th:only-of-type {\n",
       "        vertical-align: middle;\n",
       "    }\n",
       "\n",
       "    .dataframe tbody tr th {\n",
       "        vertical-align: top;\n",
       "    }\n",
       "\n",
       "    .dataframe thead th {\n",
       "        text-align: right;\n",
       "    }\n",
       "</style>\n",
       "<table border=\"1\" class=\"dataframe\">\n",
       "  <thead>\n",
       "    <tr style=\"text-align: right;\">\n",
       "      <th></th>\n",
       "      <th>0</th>\n",
       "      <th>1</th>\n",
       "      <th>2</th>\n",
       "      <th>3</th>\n",
       "      <th>4</th>\n",
       "      <th>5</th>\n",
       "      <th>6</th>\n",
       "      <th>7</th>\n",
       "      <th>8</th>\n",
       "      <th>9</th>\n",
       "      <th>10</th>\n",
       "      <th>11</th>\n",
       "      <th>12</th>\n",
       "      <th>13</th>\n",
       "      <th>14</th>\n",
       "      <th>15</th>\n",
       "      <th>16</th>\n",
       "      <th>17</th>\n",
       "      <th>18</th>\n",
       "      <th>19</th>\n",
       "    </tr>\n",
       "  </thead>\n",
       "  <tbody>\n",
       "    <tr>\n",
       "      <th>having_IP_Address</th>\n",
       "      <td>-1</td>\n",
       "      <td>1</td>\n",
       "      <td>1</td>\n",
       "      <td>1</td>\n",
       "      <td>1</td>\n",
       "      <td>-1</td>\n",
       "      <td>1</td>\n",
       "      <td>1</td>\n",
       "      <td>1</td>\n",
       "      <td>1</td>\n",
       "      <td>1</td>\n",
       "      <td>1</td>\n",
       "      <td>-1</td>\n",
       "      <td>1</td>\n",
       "      <td>1</td>\n",
       "      <td>1</td>\n",
       "      <td>1</td>\n",
       "      <td>1</td>\n",
       "      <td>1</td>\n",
       "      <td>1</td>\n",
       "    </tr>\n",
       "    <tr>\n",
       "      <th>URL_Length</th>\n",
       "      <td>1</td>\n",
       "      <td>1</td>\n",
       "      <td>0</td>\n",
       "      <td>0</td>\n",
       "      <td>0</td>\n",
       "      <td>0</td>\n",
       "      <td>0</td>\n",
       "      <td>0</td>\n",
       "      <td>0</td>\n",
       "      <td>1</td>\n",
       "      <td>1</td>\n",
       "      <td>1</td>\n",
       "      <td>1</td>\n",
       "      <td>1</td>\n",
       "      <td>1</td>\n",
       "      <td>-1</td>\n",
       "      <td>-1</td>\n",
       "      <td>-1</td>\n",
       "      <td>1</td>\n",
       "      <td>1</td>\n",
       "    </tr>\n",
       "    <tr>\n",
       "      <th>Shortining_Service</th>\n",
       "      <td>1</td>\n",
       "      <td>1</td>\n",
       "      <td>1</td>\n",
       "      <td>1</td>\n",
       "      <td>-1</td>\n",
       "      <td>-1</td>\n",
       "      <td>-1</td>\n",
       "      <td>1</td>\n",
       "      <td>-1</td>\n",
       "      <td>-1</td>\n",
       "      <td>1</td>\n",
       "      <td>-1</td>\n",
       "      <td>-1</td>\n",
       "      <td>-1</td>\n",
       "      <td>-1</td>\n",
       "      <td>-1</td>\n",
       "      <td>-1</td>\n",
       "      <td>1</td>\n",
       "      <td>1</td>\n",
       "      <td>1</td>\n",
       "    </tr>\n",
       "    <tr>\n",
       "      <th>having_At_Symbol</th>\n",
       "      <td>1</td>\n",
       "      <td>1</td>\n",
       "      <td>1</td>\n",
       "      <td>1</td>\n",
       "      <td>1</td>\n",
       "      <td>1</td>\n",
       "      <td>1</td>\n",
       "      <td>1</td>\n",
       "      <td>1</td>\n",
       "      <td>1</td>\n",
       "      <td>1</td>\n",
       "      <td>1</td>\n",
       "      <td>1</td>\n",
       "      <td>1</td>\n",
       "      <td>1</td>\n",
       "      <td>-1</td>\n",
       "      <td>1</td>\n",
       "      <td>1</td>\n",
       "      <td>1</td>\n",
       "      <td>1</td>\n",
       "    </tr>\n",
       "    <tr>\n",
       "      <th>double_slash_redirecting</th>\n",
       "      <td>-1</td>\n",
       "      <td>1</td>\n",
       "      <td>1</td>\n",
       "      <td>1</td>\n",
       "      <td>1</td>\n",
       "      <td>-1</td>\n",
       "      <td>1</td>\n",
       "      <td>1</td>\n",
       "      <td>1</td>\n",
       "      <td>1</td>\n",
       "      <td>1</td>\n",
       "      <td>1</td>\n",
       "      <td>-1</td>\n",
       "      <td>1</td>\n",
       "      <td>1</td>\n",
       "      <td>1</td>\n",
       "      <td>1</td>\n",
       "      <td>1</td>\n",
       "      <td>1</td>\n",
       "      <td>1</td>\n",
       "    </tr>\n",
       "    <tr>\n",
       "      <th>Prefix_Suffix</th>\n",
       "      <td>-1</td>\n",
       "      <td>-1</td>\n",
       "      <td>-1</td>\n",
       "      <td>-1</td>\n",
       "      <td>-1</td>\n",
       "      <td>-1</td>\n",
       "      <td>-1</td>\n",
       "      <td>-1</td>\n",
       "      <td>-1</td>\n",
       "      <td>-1</td>\n",
       "      <td>-1</td>\n",
       "      <td>-1</td>\n",
       "      <td>-1</td>\n",
       "      <td>-1</td>\n",
       "      <td>1</td>\n",
       "      <td>-1</td>\n",
       "      <td>-1</td>\n",
       "      <td>-1</td>\n",
       "      <td>-1</td>\n",
       "      <td>-1</td>\n",
       "    </tr>\n",
       "    <tr>\n",
       "      <th>SSLfinal_State</th>\n",
       "      <td>-1</td>\n",
       "      <td>1</td>\n",
       "      <td>-1</td>\n",
       "      <td>-1</td>\n",
       "      <td>1</td>\n",
       "      <td>1</td>\n",
       "      <td>-1</td>\n",
       "      <td>-1</td>\n",
       "      <td>1</td>\n",
       "      <td>1</td>\n",
       "      <td>1</td>\n",
       "      <td>-1</td>\n",
       "      <td>0</td>\n",
       "      <td>-1</td>\n",
       "      <td>1</td>\n",
       "      <td>0</td>\n",
       "      <td>1</td>\n",
       "      <td>0</td>\n",
       "      <td>1</td>\n",
       "      <td>1</td>\n",
       "    </tr>\n",
       "    <tr>\n",
       "      <th>Domain_registeration_length</th>\n",
       "      <td>-1</td>\n",
       "      <td>-1</td>\n",
       "      <td>-1</td>\n",
       "      <td>1</td>\n",
       "      <td>-1</td>\n",
       "      <td>-1</td>\n",
       "      <td>1</td>\n",
       "      <td>1</td>\n",
       "      <td>-1</td>\n",
       "      <td>-1</td>\n",
       "      <td>1</td>\n",
       "      <td>-1</td>\n",
       "      <td>1</td>\n",
       "      <td>1</td>\n",
       "      <td>-1</td>\n",
       "      <td>1</td>\n",
       "      <td>-1</td>\n",
       "      <td>1</td>\n",
       "      <td>1</td>\n",
       "      <td>-1</td>\n",
       "    </tr>\n",
       "    <tr>\n",
       "      <th>age_of_domain</th>\n",
       "      <td>-1</td>\n",
       "      <td>-1</td>\n",
       "      <td>1</td>\n",
       "      <td>-1</td>\n",
       "      <td>-1</td>\n",
       "      <td>1</td>\n",
       "      <td>1</td>\n",
       "      <td>-1</td>\n",
       "      <td>1</td>\n",
       "      <td>1</td>\n",
       "      <td>-1</td>\n",
       "      <td>-1</td>\n",
       "      <td>1</td>\n",
       "      <td>-1</td>\n",
       "      <td>1</td>\n",
       "      <td>1</td>\n",
       "      <td>1</td>\n",
       "      <td>-1</td>\n",
       "      <td>1</td>\n",
       "      <td>1</td>\n",
       "    </tr>\n",
       "    <tr>\n",
       "      <th>DNSRecord</th>\n",
       "      <td>-1</td>\n",
       "      <td>-1</td>\n",
       "      <td>-1</td>\n",
       "      <td>-1</td>\n",
       "      <td>-1</td>\n",
       "      <td>1</td>\n",
       "      <td>-1</td>\n",
       "      <td>-1</td>\n",
       "      <td>-1</td>\n",
       "      <td>-1</td>\n",
       "      <td>1</td>\n",
       "      <td>-1</td>\n",
       "      <td>-1</td>\n",
       "      <td>-1</td>\n",
       "      <td>-1</td>\n",
       "      <td>-1</td>\n",
       "      <td>-1</td>\n",
       "      <td>1</td>\n",
       "      <td>-1</td>\n",
       "      <td>-1</td>\n",
       "    </tr>\n",
       "    <tr>\n",
       "      <th>web_traffic</th>\n",
       "      <td>-1</td>\n",
       "      <td>0</td>\n",
       "      <td>1</td>\n",
       "      <td>1</td>\n",
       "      <td>0</td>\n",
       "      <td>1</td>\n",
       "      <td>-1</td>\n",
       "      <td>0</td>\n",
       "      <td>1</td>\n",
       "      <td>0</td>\n",
       "      <td>1</td>\n",
       "      <td>-1</td>\n",
       "      <td>-1</td>\n",
       "      <td>0</td>\n",
       "      <td>1</td>\n",
       "      <td>-1</td>\n",
       "      <td>0</td>\n",
       "      <td>1</td>\n",
       "      <td>-1</td>\n",
       "      <td>0</td>\n",
       "    </tr>\n",
       "    <tr>\n",
       "      <th>Google_Index</th>\n",
       "      <td>1</td>\n",
       "      <td>1</td>\n",
       "      <td>1</td>\n",
       "      <td>1</td>\n",
       "      <td>1</td>\n",
       "      <td>1</td>\n",
       "      <td>1</td>\n",
       "      <td>1</td>\n",
       "      <td>1</td>\n",
       "      <td>1</td>\n",
       "      <td>1</td>\n",
       "      <td>1</td>\n",
       "      <td>1</td>\n",
       "      <td>1</td>\n",
       "      <td>1</td>\n",
       "      <td>1</td>\n",
       "      <td>1</td>\n",
       "      <td>1</td>\n",
       "      <td>1</td>\n",
       "      <td>1</td>\n",
       "    </tr>\n",
       "    <tr>\n",
       "      <th>Result</th>\n",
       "      <td>-1</td>\n",
       "      <td>-1</td>\n",
       "      <td>-1</td>\n",
       "      <td>-1</td>\n",
       "      <td>1</td>\n",
       "      <td>1</td>\n",
       "      <td>-1</td>\n",
       "      <td>-1</td>\n",
       "      <td>1</td>\n",
       "      <td>-1</td>\n",
       "      <td>1</td>\n",
       "      <td>-1</td>\n",
       "      <td>-1</td>\n",
       "      <td>-1</td>\n",
       "      <td>1</td>\n",
       "      <td>-1</td>\n",
       "      <td>-1</td>\n",
       "      <td>-1</td>\n",
       "      <td>1</td>\n",
       "      <td>1</td>\n",
       "    </tr>\n",
       "  </tbody>\n",
       "</table>\n",
       "</div>"
      ],
      "text/plain": [
       "                             0  1  2  3  4  5  6  7  8  9  10  11  12  13  14  \\\n",
       "having_IP_Address           -1  1  1  1  1 -1  1  1  1  1   1   1  -1   1   1   \n",
       "URL_Length                   1  1  0  0  0  0  0  0  0  1   1   1   1   1   1   \n",
       "Shortining_Service           1  1  1  1 -1 -1 -1  1 -1 -1   1  -1  -1  -1  -1   \n",
       "having_At_Symbol             1  1  1  1  1  1  1  1  1  1   1   1   1   1   1   \n",
       "double_slash_redirecting    -1  1  1  1  1 -1  1  1  1  1   1   1  -1   1   1   \n",
       "Prefix_Suffix               -1 -1 -1 -1 -1 -1 -1 -1 -1 -1  -1  -1  -1  -1   1   \n",
       "SSLfinal_State              -1  1 -1 -1  1  1 -1 -1  1  1   1  -1   0  -1   1   \n",
       "Domain_registeration_length -1 -1 -1  1 -1 -1  1  1 -1 -1   1  -1   1   1  -1   \n",
       "age_of_domain               -1 -1  1 -1 -1  1  1 -1  1  1  -1  -1   1  -1   1   \n",
       "DNSRecord                   -1 -1 -1 -1 -1  1 -1 -1 -1 -1   1  -1  -1  -1  -1   \n",
       "web_traffic                 -1  0  1  1  0  1 -1  0  1  0   1  -1  -1   0   1   \n",
       "Google_Index                 1  1  1  1  1  1  1  1  1  1   1   1   1   1   1   \n",
       "Result                      -1 -1 -1 -1  1  1 -1 -1  1 -1   1  -1  -1  -1   1   \n",
       "\n",
       "                             15  16  17  18  19  \n",
       "having_IP_Address             1   1   1   1   1  \n",
       "URL_Length                   -1  -1  -1   1   1  \n",
       "Shortining_Service           -1  -1   1   1   1  \n",
       "having_At_Symbol             -1   1   1   1   1  \n",
       "double_slash_redirecting      1   1   1   1   1  \n",
       "Prefix_Suffix                -1  -1  -1  -1  -1  \n",
       "SSLfinal_State                0   1   0   1   1  \n",
       "Domain_registeration_length   1  -1   1   1  -1  \n",
       "age_of_domain                 1   1  -1   1   1  \n",
       "DNSRecord                    -1  -1   1  -1  -1  \n",
       "web_traffic                  -1   0   1  -1   0  \n",
       "Google_Index                  1   1   1   1   1  \n",
       "Result                       -1  -1  -1   1   1  "
      ]
     },
     "execution_count": 74,
     "metadata": {},
     "output_type": "execute_result"
    }
   ],
   "source": [
    "data.head(20).T"
   ]
  },
  {
   "cell_type": "code",
   "execution_count": 77,
   "metadata": {},
   "outputs": [],
   "source": [
    "X = data.iloc[:,0:-1].values.astype(int)\n",
    "y = data.iloc[:,-1].values.astype(int)\n",
    " \n",
    "X_train, X_test, y_train, y_test = train_test_split(X, y, test_size=0.2, random_state=np.random.seed(7))"
   ]
  },
  {
   "cell_type": "markdown",
   "metadata": {},
   "source": [
    "#### Logistic Regression"
   ]
  },
  {
   "cell_type": "code",
   "execution_count": 78,
   "metadata": {},
   "outputs": [
    {
     "data": {
      "text/plain": [
       "LogisticRegression()"
      ]
     },
     "execution_count": 78,
     "metadata": {},
     "output_type": "execute_result"
    }
   ],
   "source": [
    "logreg = LogisticRegression()\n",
    "logreg.fit(X_train, y_train)"
   ]
  },
  {
   "cell_type": "code",
   "execution_count": 79,
   "metadata": {},
   "outputs": [
    {
     "name": "stdout",
     "output_type": "stream",
     "text": [
      "Accuracy score of the Logistic Regression classifier with default hyperparameter values 89.33%\n",
      "\n",
      "\n",
      "----Classification report of the Logistic Regression classifier with default hyperparameter value----\n",
      "\n",
      "\n",
      "                   precision    recall  f1-score   support\n",
      "\n",
      "Phishing Websites       0.90      0.85      0.88       974\n",
      "  Normal Websites       0.89      0.93      0.91      1237\n",
      "\n",
      "         accuracy                           0.89      2211\n",
      "        macro avg       0.89      0.89      0.89      2211\n",
      "     weighted avg       0.89      0.89      0.89      2211\n",
      "\n"
     ]
    }
   ],
   "source": [
    "\n",
    "from sklearn.metrics import accuracy_score, classification_report\n",
    "\n",
    "print('Accuracy score of the Logistic Regression classifier with default hyperparameter values {0:.2f}%'.format(accuracy_score(y_test, logreg.predict(X_test))*100.))\n",
    "print('\\n')\n",
    "print('----Classification report of the Logistic Regression classifier with default hyperparameter value----')\n",
    "print('\\n')\n",
    "print(classification_report(y_test, logreg.predict(X_test), target_names=['Phishing Websites', 'Normal Websites']))"
   ]
  },
  {
   "cell_type": "code",
   "execution_count": 80,
   "metadata": {},
   "outputs": [
    {
     "name": "stdout",
     "output_type": "stream",
     "text": [
      "0.8932609678878336\n",
      "0.8887821433254928\n",
      "0.9066455696202532\n"
     ]
    }
   ],
   "source": [
    "preds = logreg.predict(X_test).astype(int)\n",
    "accuracy = logreg.score(X_test,y_test)\n",
    "fpr, tpr, thresholds = metrics.roc_curve(y_test, preds)\n",
    "AUC = metrics.auc(fpr,tpr)\n",
    "F1 = metrics.f1_score(y_test,preds)\n",
    "print(accuracy)\n",
    "print(AUC)\n",
    "print(F1)"
   ]
  },
  {
   "cell_type": "markdown",
   "metadata": {},
   "source": [
    "#### Decision Tree Classifier"
   ]
  },
  {
   "cell_type": "code",
   "execution_count": 81,
   "metadata": {},
   "outputs": [
    {
     "data": {
      "text/plain": [
       "DecisionTreeClassifier()"
      ]
     },
     "execution_count": 81,
     "metadata": {},
     "output_type": "execute_result"
    }
   ],
   "source": [
    "dtc = DecisionTreeClassifier()\n",
    "dtc.fit(X_train, y_train)"
   ]
  },
  {
   "cell_type": "code",
   "execution_count": 85,
   "metadata": {},
   "outputs": [
    {
     "name": "stdout",
     "output_type": "stream",
     "text": [
      "Accuracy score of the Decision Tree classifier classifier with default hyperparameter values 92.58%\n",
      "\n",
      "\n",
      "----Classification report of the Decision Tree classifier with default hyperparameter value----\n",
      "\n",
      "\n",
      "                   precision    recall  f1-score   support\n",
      "\n",
      "Phishing Websites       0.92      0.91      0.92       974\n",
      "  Normal Websites       0.93      0.94      0.93      1237\n",
      "\n",
      "         accuracy                           0.93      2211\n",
      "        macro avg       0.93      0.92      0.92      2211\n",
      "     weighted avg       0.93      0.93      0.93      2211\n",
      "\n"
     ]
    }
   ],
   "source": [
    "\n",
    "from sklearn.metrics import accuracy_score, classification_report\n",
    "\n",
    "print('Accuracy score of the Decision Tree classifier classifier with default hyperparameter values {0:.2f}%'.format(accuracy_score(y_test, dtc.predict(X_test))*100.))\n",
    "print('\\n')\n",
    "print('----Classification report of the Decision Tree classifier with default hyperparameter value----')\n",
    "print('\\n')\n",
    "print(classification_report(y_test, dtc.predict(X_test), target_names=['Phishing Websites', 'Normal Websites']))"
   ]
  },
  {
   "cell_type": "code",
   "execution_count": 83,
   "metadata": {},
   "outputs": [
    {
     "name": "stdout",
     "output_type": "stream",
     "text": [
      "0.9258254183627318\n",
      "0.9241059793930803\n",
      "0.9340305711987127\n"
     ]
    }
   ],
   "source": [
    "preds = dtc.predict(X_test).astype(int)\n",
    "accuracy = dtc.score(X_test,y_test)\n",
    "fpr, tpr, thresholds = metrics.roc_curve(y_test, preds)\n",
    "AUC = metrics.auc(fpr,tpr)\n",
    "F1 = metrics.f1_score(y_test,preds)\n",
    "print(accuracy)\n",
    "print(AUC)\n",
    "print(F1)"
   ]
  },
  {
   "cell_type": "markdown",
   "metadata": {},
   "source": [
    "#### Bagging"
   ]
  },
  {
   "cell_type": "code",
   "execution_count": 84,
   "metadata": {},
   "outputs": [
    {
     "data": {
      "text/plain": [
       "BaggingClassifier(base_estimator=DecisionTreeClassifier(), max_samples=0.5,\n",
       "                  n_estimators=50)"
      ]
     },
     "execution_count": 84,
     "metadata": {},
     "output_type": "execute_result"
    }
   ],
   "source": [
    "bg = BaggingClassifier(base_estimator = DecisionTreeClassifier(), max_samples=0.5, n_estimators=50)\n",
    "bg.fit(X_train, y_train)"
   ]
  },
  {
   "cell_type": "code",
   "execution_count": 86,
   "metadata": {},
   "outputs": [
    {
     "name": "stdout",
     "output_type": "stream",
     "text": [
      "Accuracy score of the Bagging classifier with default hyperparameter values 92.85%\n",
      "\n",
      "\n",
      "----Classification report of the Bagging classifier with default hyperparameter value----\n",
      "\n",
      "\n",
      "                   precision    recall  f1-score   support\n",
      "\n",
      "Phishing Websites       0.93      0.91      0.92       974\n",
      "  Normal Websites       0.93      0.94      0.94      1237\n",
      "\n",
      "         accuracy                           0.93      2211\n",
      "        macro avg       0.93      0.93      0.93      2211\n",
      "     weighted avg       0.93      0.93      0.93      2211\n",
      "\n"
     ]
    }
   ],
   "source": [
    "from sklearn.metrics import accuracy_score, classification_report\n",
    "\n",
    "print('Accuracy score of the Bagging classifier with default hyperparameter values {0:.2f}%'.format(accuracy_score(y_test, bg.predict(X_test))*100.))\n",
    "print('\\n')\n",
    "print('----Classification report of the Bagging classifier with default hyperparameter value----')\n",
    "print('\\n')\n",
    "print(classification_report(y_test, bg.predict(X_test), target_names=['Phishing Websites', 'Normal Websites']))"
   ]
  },
  {
   "cell_type": "code",
   "execution_count": 87,
   "metadata": {},
   "outputs": [
    {
     "name": "stdout",
     "output_type": "stream",
     "text": [
      "0.9285391225689733\n",
      "0.9267494883129517\n",
      "0.9364951768488746\n"
     ]
    }
   ],
   "source": [
    "preds = bg.predict(X_test).astype(int)\n",
    "accuracy = bg.score(X_test,y_test)\n",
    "fpr, tpr, thresholds = metrics.roc_curve(y_test, preds)\n",
    "AUC = metrics.auc(fpr,tpr)\n",
    "F1 = metrics.f1_score(y_test,preds)\n",
    "print(accuracy)\n",
    "print(AUC)\n",
    "print(F1)"
   ]
  },
  {
   "cell_type": "markdown",
   "metadata": {},
   "source": [
    "#### Ada Boosting"
   ]
  },
  {
   "cell_type": "code",
   "execution_count": 89,
   "metadata": {},
   "outputs": [
    {
     "data": {
      "text/plain": [
       "AdaBoostClassifier(base_estimator=DecisionTreeClassifier(), learning_rate=0.3)"
      ]
     },
     "execution_count": 89,
     "metadata": {},
     "output_type": "execute_result"
    }
   ],
   "source": [
    "adb = AdaBoostClassifier(base_estimator = DecisionTreeClassifier(), n_estimators=50, learning_rate=0.3)\n",
    "adb.fit(X_train, y_train)"
   ]
  },
  {
   "cell_type": "code",
   "execution_count": 91,
   "metadata": {},
   "outputs": [
    {
     "name": "stdout",
     "output_type": "stream",
     "text": [
      "Accuracy score of the Ada Boosting classifier with default hyperparameter values 92.49%\n",
      "\n",
      "\n",
      "----Classification report of the Ada Boosting classifier with default hyperparameter value----\n",
      "\n",
      "\n",
      "                   precision    recall  f1-score   support\n",
      "\n",
      "Phishing Websites       0.92      0.91      0.91       974\n",
      "  Normal Websites       0.93      0.94      0.93      1237\n",
      "\n",
      "         accuracy                           0.92      2211\n",
      "        macro avg       0.92      0.92      0.92      2211\n",
      "     weighted avg       0.92      0.92      0.92      2211\n",
      "\n"
     ]
    }
   ],
   "source": [
    "from sklearn.metrics import accuracy_score, classification_report\n",
    "\n",
    "print('Accuracy score of the Ada Boosting classifier with default hyperparameter values {0:.2f}%'.format(accuracy_score(y_test, adb.predict(X_test))*100.))\n",
    "print('\\n')\n",
    "print('----Classification report of the Ada Boosting classifier with default hyperparameter value----')\n",
    "print('\\n')\n",
    "print(classification_report(y_test, adb.predict(X_test), target_names=['Phishing Websites', 'Normal Websites']))"
   ]
  },
  {
   "cell_type": "code",
   "execution_count": 90,
   "metadata": {},
   "outputs": [
    {
     "name": "stdout",
     "output_type": "stream",
     "text": [
      "0.9249208502939846\n",
      "0.9230792853479057\n",
      "0.9332797427652733\n"
     ]
    }
   ],
   "source": [
    "preds = adb.predict(X_test).astype(int)\n",
    "accuracy = adb.score(X_test,y_test)\n",
    "fpr, tpr, thresholds = metrics.roc_curve(y_test, preds)\n",
    "AUC = metrics.auc(fpr,tpr)\n",
    "F1 = metrics.f1_score(y_test,preds)\n",
    "print(accuracy)\n",
    "print(AUC)\n",
    "print(F1)"
   ]
  },
  {
   "cell_type": "markdown",
   "metadata": {},
   "source": [
    "### Hybrid Model"
   ]
  },
  {
   "cell_type": "code",
   "execution_count": 102,
   "metadata": {},
   "outputs": [],
   "source": [
    "def check_dns(url):\n",
    "    try:\n",
    "        w = whois.whois(url)\n",
    "        domain = w.domain_name[0]\n",
    "    except:\n",
    "        return True\n",
    "    try:\n",
    "        result = dns.resolver.query(domain, 'A')\n",
    "        return False\n",
    "    except:\n",
    "        return True"
   ]
  },
  {
   "cell_type": "code",
   "execution_count": 98,
   "metadata": {},
   "outputs": [],
   "source": [
    "def process_url(url):\n",
    "    having_IP_Address = -1 \n",
    "    URL_Length = -1 \n",
    "    Shortining_Service = -1 \n",
    "    having_At_Symbol = -1 \n",
    "    SSLfinal_State = -1\n",
    "    double_slash_redirecting = -1 \n",
    "    Prefix_Suffix = -1 \n",
    "    age_of_domain = -1\n",
    "    DNSRecord = -1\n",
    "    web_traffic = -1 \n",
    "    Google_Index = -1\n",
    "    Domain_registeration_length = -1\n",
    "\n",
    "    # having_IP_Address\n",
    "    index = url.find('://')\n",
    "    if index != -1:\n",
    "        temp = url[index + 3:]\n",
    "    a = re.search(\"(2[0-4][0-9]|2[5][0-5]|[1]*[0-9]*[0-9])\\.(2[0-4][0-9]|2[5][0-5]|[1]*[0-9]*[0-9])\\.(2[0-4][0-9]|2[5][0-5]|[1]*[0-9]*[0-9])\\.(2[0-4][0-9]|2[5][0-5]|[1]*[0-9]*[0-9])\", temp)\n",
    "    if a:\n",
    "        having_IP_Address = 1\n",
    "\n",
    "    # URL_length\n",
    "    length = len(url)\n",
    "    if length >= 75 and length <= 100:\n",
    "        URL_Length = 0\n",
    "    elif length > 100:\n",
    "        URL_Length = 1\n",
    " \n",
    "    # Shortining_Service\n",
    "    index = url.find('://')\n",
    "    if index != -1:\n",
    "        url = url[index + 3:]\n",
    "    if (\"bit.ly\" in url or \"tinyurl\" in url) and (len(url) <= 30):\n",
    "        Shortining_Service = 1\n",
    "\n",
    "    # having_At_Symbol\n",
    "    check = url.find('@')\n",
    "    if check != -1:\n",
    "        having_At_Symbol = 1\n",
    "    \n",
    "    \n",
    "    # SSLfinal_State\n",
    "    # not finding https directly because it may be in the right part of url\n",
    "    http = url.find(\"://\")\n",
    "    if http != -1:\n",
    "        if url[http - 1] != \"s\":\n",
    "            SSLfinal_State = 1\n",
    "\n",
    "    # double_slash_redirecting\n",
    "    check = url.find('//')\n",
    "    if check != -1:\n",
    "        double_slash_redirecting = 1\n",
    "            \n",
    "    # Domain_registeration_length\n",
    "    # age_of_domain\n",
    "    try:  \n",
    "        w = whois.whois(url)\n",
    "    except:\n",
    "        Domain_registeration_length = 1\n",
    "        age_of_domain = 1   \n",
    "    try:\n",
    "        d = w.expiration_date.year - w.creation_date.year\n",
    "    except:\n",
    "        try:\n",
    "            d = w.expiration_date[0].year - w.creation_date[0].year\n",
    "            w.expiration_date = w.expiration_date[0]\n",
    "            w.creation_date = w.creation_date[0]\n",
    "        except:\n",
    "            d = 0\n",
    "            Domain_registeration_length = 1\n",
    "            age_of_domain = 1\n",
    "    if d == 1:\n",
    "        Domain_registeration_length = 1\n",
    "    if w.creation_date.month - datetime.now().month <= 6:\n",
    "        age_of_domain = 1 \n",
    "\n",
    "    # DNSRecord\n",
    "    rslt = check_dns(url)\n",
    "    if rslt == True:\n",
    "        DNSRecord = 1\n",
    "\n",
    "    # web_traffic\n",
    "    index = url.find('://')\n",
    "    url1 = url[index + 3:]\n",
    "    index = url1.find('/')\n",
    "    domain = url1[:index]\n",
    "    try:\n",
    "        w = whois.whois(url)\n",
    "        domain = w.domain_name[0]\n",
    "        rslt = checkWhiteList(domain)\n",
    "        if rslt == False:\n",
    "            web_traffic = 1\n",
    "    except:\n",
    "        pass\n",
    "    \n",
    "    # Prefix_Suffix\n",
    "    check = domain.find('-')\n",
    "    if check != -1:\n",
    "        Prefix_Suffix = 1\n",
    "        \n",
    "    #Google_index\n",
    "    rslt = check_google(url)\n",
    "    if rslt == True:\n",
    "        Google_Index = 1\n",
    " \n",
    "    result = [having_IP_Address, URL_Length, Shortining_Service,\n",
    "       having_At_Symbol, double_slash_redirecting, Prefix_Suffix,\n",
    "       SSLfinal_State, Domain_registeration_length, age_of_domain,\n",
    "       DNSRecord, web_traffic, Google_Index]\n",
    "    return result \n"
   ]
  },
  {
   "cell_type": "code",
   "execution_count": 94,
   "metadata": {},
   "outputs": [
    {
     "data": {
      "text/plain": [
       "Index(['having_IP_Address', 'URL_Length', 'Shortining_Service',\n",
       "       'having_At_Symbol', 'double_slash_redirecting', 'Prefix_Suffix',\n",
       "       'SSLfinal_State', 'Domain_registeration_length', 'age_of_domain',\n",
       "       'DNSRecord', 'web_traffic', 'Google_Index', 'Result'],\n",
       "      dtype='object')"
      ]
     },
     "execution_count": 94,
     "metadata": {},
     "output_type": "execute_result"
    }
   ],
   "source": [
    "data.columns"
   ]
  },
  {
   "cell_type": "code",
   "execution_count": 95,
   "metadata": {},
   "outputs": [],
   "source": [
    "def detect_phishing(url):\n",
    "    domain = url\n",
    "    # Get domain name using whois command\n",
    "    try:\n",
    "        w = whois.whois(url)\n",
    "        domain = w.domain_name\n",
    "    except:\n",
    "        pass\n",
    " \n",
    "    # White-list approach\n",
    "    rslt = checkWhiteList(domain)\n",
    "    if rslt == True:\n",
    "        return 'Non-phishing'\n",
    " \n",
    "    # Black-list approach\n",
    "    rslt = checkBlackList(domain)\n",
    "    if rslt == True:\n",
    "        return 'Phishing'\n",
    " \n",
    "    # Whois Tool\n",
    "    whois_rslt = False\n",
    "    whois_rslt = check_whois(url)\n",
    " \n",
    "    # Google Search\n",
    "    google_rslt = False\n",
    "    google_rslt = check_google(url)\n",
    " \n",
    " \n",
    "    if whois_rslt == True and google_rslt == True:\n",
    "        return 'Phishing'\n",
    " \n",
    "    # ML approach\n",
    "    url_features = process_url(url)\n",
    "    ml_rslt = bg.predict([url_features]).astype(int)\n",
    "    if ml_rslt[0] == 1 and (whois_rslt == True or google_rslt == True):\n",
    "        return 'Phishing'\n",
    "    else:\n",
    "        return 'Non-phishing'\n",
    " \n",
    "    return 'Non-phishing'"
   ]
  },
  {
   "cell_type": "code",
   "execution_count": 96,
   "metadata": {},
   "outputs": [
    {
     "name": "stdout",
     "output_type": "stream",
     "text": [
      "Phishing\n",
      "Phishing\n",
      "Phishing\n",
      "Phishing\n",
      "Phishing\n"
     ]
    }
   ],
   "source": [
    "# Checking phishing site\n",
    "urls = [\"https://cbsujavrh.ts.r.appspot.com/login.microsoftonline.com/common/oauth2\", \"https://www.netflix.verfiy-your-information.com/\", \"http://12.34.56.78/firstgenericbank/account-update/\", \"http://promocao.pl/hot18664c6/67f37/741a1/847/dc01/\", \"http://www.\"]\n",
    "for url in urls:\n",
    "    print(detect_phishing(url))"
   ]
  },
  {
   "cell_type": "code",
   "execution_count": 103,
   "metadata": {},
   "outputs": [
    {
     "name": "stdout",
     "output_type": "stream",
     "text": [
      "Non-phishing\n",
      "Non-phishing\n",
      "Non-phishing\n",
      "Non-phishing\n",
      "Non-phishing\n",
      "Non-phishing\n",
      "Non-phishing\n",
      "Non-phishing\n",
      "Non-phishing\n",
      "Non-phishing\n",
      "Non-phishing\n",
      "Non-phishing\n"
     ]
    }
   ],
   "source": [
    "# Checking non-phishing site\n",
    "urls = ['https://www.geeksforgeeks.org/php-file_exists-function/', 'https://devmesh.intel.com/projects/detecting-phishing-websites-using-neural-networks', 'https://github.com/sayakpaul/Phishing-Websites-Detection', 'https://stackoverflow.com/questions/13148429/how-to-change-the-order-of-dataframe-columns', 'https://pandas.pydata.org/pandas-docs/stable/user_guide/merging.html', 'https://stackoverflow.com/questions/44268763/can-not-import-module-search-from-google-module-in-python', 'https://towardsdatascience.com/3-ways-to-load-csv-files-into-colab-7c14fcbdcb92', 'https://stackoverflow.com/questions/23086383/how-to-test-nonetype-in-python', 'https://pypi.org/project/googlesearch-python/', 'https://www.shabdkosh.com/dictionary/english-marathi/lyric/lyric-meaning-in-marathi', 'https://helloenglish.com/translate/english-marathi-dictionary/meaning-of-lyrics-in-Marathi', 'https://translate.google.com/translate_t?hl=en&sl=en&tl=nl']\n",
    "for url in urls:\n",
    "    print(detect_phishing(url))"
   ]
  },
  {
   "cell_type": "code",
   "execution_count": 104,
   "metadata": {},
   "outputs": [
    {
     "name": "stdout",
     "output_type": "stream",
     "text": [
      "True\n",
      "False\n"
     ]
    }
   ],
   "source": [
    "# google-search\n",
    "# url1 is non-phishing site\n",
    "# url2 is phishing site\n",
    "url1 = 'https://portal2.passportindia.gov.in/AppOnlineProject/welcomeLink'\n",
    "url2 = 'http://www.indiapassport.org'\n",
    "print(check_google(url1))\n",
    "print(check_google(url2))"
   ]
  },
  {
   "cell_type": "code",
   "execution_count": 105,
   "metadata": {},
   "outputs": [
    {
     "name": "stdout",
     "output_type": "stream",
     "text": [
      "True\n",
      "True\n"
     ]
    }
   ],
   "source": [
    "# whois tool\n",
    "# url1 is non-phishing site\n",
    "# url2 is phishing site\n",
    "url1 = 'https://portal2.passportindia.gov.in/AppOnlineProject/welcomeLink'\n",
    "url2 = 'http://www.indiapassport.org'\n",
    "print(check_whois(url1))\n",
    "print(check_whois(url2))"
   ]
  },
  {
   "cell_type": "code",
   "execution_count": 106,
   "metadata": {},
   "outputs": [
    {
     "name": "stdout",
     "output_type": "stream",
     "text": [
      "Phishing\n",
      "Non-phishing\n"
     ]
    }
   ],
   "source": [
    "# Hybrid model\n",
    "# url1 is non-phishing site\n",
    "# url2 is phishing site\n",
    "url1 = 'https://portal2.passportindia.gov.in/AppOnlineProject/welcomeLink'\n",
    "url2 = 'http://www.indiapassport.org'\n",
    "print(detect_phishing(url1))\n",
    "print(detect_phishing(url2))"
   ]
  },
  {
   "cell_type": "code",
   "execution_count": null,
   "metadata": {},
   "outputs": [],
   "source": []
  }
 ],
 "metadata": {
  "colab": {
   "collapsed_sections": [],
   "name": "Phishing Detection.ipynb",
   "provenance": []
  },
  "kernelspec": {
   "display_name": "Python 3",
   "language": "python",
   "name": "python3"
  },
  "language_info": {
   "codemirror_mode": {
    "name": "ipython",
    "version": 3
   },
   "file_extension": ".py",
   "mimetype": "text/x-python",
   "name": "python",
   "nbconvert_exporter": "python",
   "pygments_lexer": "ipython3",
   "version": "3.7.7"
  }
 },
 "nbformat": 4,
 "nbformat_minor": 1
}
